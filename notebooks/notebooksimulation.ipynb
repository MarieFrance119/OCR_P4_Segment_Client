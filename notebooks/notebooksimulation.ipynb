{
 "cells": [
  {
   "cell_type": "markdown",
   "id": "39270745",
   "metadata": {},
   "source": [
    "# Projet 4 : Segmentez des clients d'un site e-commerce\n",
    "# Simulation pour déterminer la fréquence nécessaire de mise à jour du modèle de segmentation"
   ]
  },
  {
   "cell_type": "markdown",
   "id": "1f3092e9",
   "metadata": {},
   "source": [
    "## 1. Importation des données"
   ]
  },
  {
   "cell_type": "markdown",
   "id": "3293758a",
   "metadata": {},
   "source": [
    "### 1.1. Chargement des librairies"
   ]
  },
  {
   "cell_type": "code",
   "execution_count": 1,
   "id": "fd24cbb4",
   "metadata": {},
   "outputs": [
    {
     "data": {
      "application/javascript": [
       "\n",
       "            setTimeout(function() {\n",
       "                var nbb_cell_id = 1;\n",
       "                var nbb_unformatted_code = \"# Manipulation des donn\\u00e9es\\nimport numpy as np\\nimport pandas as pd\\n\\n# Visualisation des donn\\u00e9es\\nimport matplotlib.pyplot as plt\\nimport seaborn as sns\\n\\nsns.set_style(\\\"whitegrid\\\")  # style choisi pour les graphes\\n\\n# Outils de sklearn\\nfrom sklearn.preprocessing import RobustScaler\\nfrom sklearn.metrics import silhouette_score, adjusted_rand_score\\nfrom sklearn.metrics.cluster import pair_confusion_matrix\\n\\n# Mod\\u00e8les de sklearn\\nfrom sklearn.cluster import KMeans\\n\\n# Utilisation du module nb_black pour formater le code\\n%load_ext nb_black\";\n",
       "                var nbb_formatted_code = \"# Manipulation des donn\\u00e9es\\nimport numpy as np\\nimport pandas as pd\\n\\n# Visualisation des donn\\u00e9es\\nimport matplotlib.pyplot as plt\\nimport seaborn as sns\\n\\nsns.set_style(\\\"whitegrid\\\")  # style choisi pour les graphes\\n\\n# Outils de sklearn\\nfrom sklearn.preprocessing import RobustScaler\\nfrom sklearn.metrics import silhouette_score, adjusted_rand_score\\nfrom sklearn.metrics.cluster import pair_confusion_matrix\\n\\n# Mod\\u00e8les de sklearn\\nfrom sklearn.cluster import KMeans\\n\\n# Utilisation du module nb_black pour formater le code\\n%load_ext nb_black\";\n",
       "                var nbb_cells = Jupyter.notebook.get_cells();\n",
       "                for (var i = 0; i < nbb_cells.length; ++i) {\n",
       "                    if (nbb_cells[i].input_prompt_number == nbb_cell_id) {\n",
       "                        if (nbb_cells[i].get_text() == nbb_unformatted_code) {\n",
       "                             nbb_cells[i].set_text(nbb_formatted_code);\n",
       "                        }\n",
       "                        break;\n",
       "                    }\n",
       "                }\n",
       "            }, 500);\n",
       "            "
      ],
      "text/plain": [
       "<IPython.core.display.Javascript object>"
      ]
     },
     "metadata": {},
     "output_type": "display_data"
    }
   ],
   "source": [
    "# Manipulation des données\n",
    "import numpy as np\n",
    "import pandas as pd\n",
    "\n",
    "# Visualisation des données\n",
    "import matplotlib.pyplot as plt\n",
    "import seaborn as sns\n",
    "\n",
    "sns.set_style(\"whitegrid\")  # style choisi pour les graphes\n",
    "\n",
    "# Outils de sklearn\n",
    "from sklearn.preprocessing import RobustScaler\n",
    "from sklearn.metrics import silhouette_score, adjusted_rand_score\n",
    "from sklearn.metrics.cluster import pair_confusion_matrix\n",
    "\n",
    "# Modèles de sklearn\n",
    "from sklearn.cluster import KMeans\n",
    "\n",
    "# Utilisation du module nb_black pour formater le code\n",
    "%load_ext nb_black"
   ]
  },
  {
   "cell_type": "markdown",
   "id": "daee1865",
   "metadata": {},
   "source": [
    "### 1.2. Chargement des données"
   ]
  },
  {
   "cell_type": "code",
   "execution_count": 2,
   "id": "a3b2ad79",
   "metadata": {},
   "outputs": [
    {
     "data": {
      "application/javascript": [
       "\n",
       "            setTimeout(function() {\n",
       "                var nbb_cell_id = 2;\n",
       "                var nbb_unformatted_code = \"df_all = pd.read_csv(\\\"all_data2.csv\\\", index_col=0)\";\n",
       "                var nbb_formatted_code = \"df_all = pd.read_csv(\\\"all_data2.csv\\\", index_col=0)\";\n",
       "                var nbb_cells = Jupyter.notebook.get_cells();\n",
       "                for (var i = 0; i < nbb_cells.length; ++i) {\n",
       "                    if (nbb_cells[i].input_prompt_number == nbb_cell_id) {\n",
       "                        if (nbb_cells[i].get_text() == nbb_unformatted_code) {\n",
       "                             nbb_cells[i].set_text(nbb_formatted_code);\n",
       "                        }\n",
       "                        break;\n",
       "                    }\n",
       "                }\n",
       "            }, 500);\n",
       "            "
      ],
      "text/plain": [
       "<IPython.core.display.Javascript object>"
      ]
     },
     "metadata": {},
     "output_type": "display_data"
    }
   ],
   "source": [
    "df_all = pd.read_csv(\"all_data2.csv\", index_col=0)"
   ]
  },
  {
   "cell_type": "markdown",
   "id": "2fe23fc4",
   "metadata": {},
   "source": [
    "### 1.3. Préparation des données"
   ]
  },
  {
   "cell_type": "code",
   "execution_count": 3,
   "id": "ea48fff4",
   "metadata": {},
   "outputs": [
    {
     "data": {
      "application/javascript": [
       "\n",
       "            setTimeout(function() {\n",
       "                var nbb_cell_id = 3;\n",
       "                var nbb_unformatted_code = \"# Mise au format datetime pour la colonne 'order_purchase_timestamp'\\ndf_all[\\\"order_purchase_timestamp\\\"] = pd.to_datetime(df_all[\\\"order_purchase_timestamp\\\"])\";\n",
       "                var nbb_formatted_code = \"# Mise au format datetime pour la colonne 'order_purchase_timestamp'\\ndf_all[\\\"order_purchase_timestamp\\\"] = pd.to_datetime(df_all[\\\"order_purchase_timestamp\\\"])\";\n",
       "                var nbb_cells = Jupyter.notebook.get_cells();\n",
       "                for (var i = 0; i < nbb_cells.length; ++i) {\n",
       "                    if (nbb_cells[i].input_prompt_number == nbb_cell_id) {\n",
       "                        if (nbb_cells[i].get_text() == nbb_unformatted_code) {\n",
       "                             nbb_cells[i].set_text(nbb_formatted_code);\n",
       "                        }\n",
       "                        break;\n",
       "                    }\n",
       "                }\n",
       "            }, 500);\n",
       "            "
      ],
      "text/plain": [
       "<IPython.core.display.Javascript object>"
      ]
     },
     "metadata": {},
     "output_type": "display_data"
    }
   ],
   "source": [
    "# Mise au format datetime pour la colonne 'order_purchase_timestamp'\n",
    "df_all[\"order_purchase_timestamp\"] = pd.to_datetime(df_all[\"order_purchase_timestamp\"])"
   ]
  },
  {
   "cell_type": "code",
   "execution_count": 4,
   "id": "2a6230df",
   "metadata": {},
   "outputs": [
    {
     "data": {
      "application/javascript": [
       "\n",
       "            setTimeout(function() {\n",
       "                var nbb_cell_id = 4;\n",
       "                var nbb_unformatted_code = \"def crea_df(df_init, date_fin):\\n\\n    \\\"\\\"\\\" Fonction pour cr\\u00e9er \\u00e0 partir du dataframe contenant toutes les donn\\u00e9es\\n    un dataframe jusqu'\\u00e0 une date choisie, avec les variables utilis\\u00e9es \\n    pour la mod\\u00e9lisation en les recalculant \\n        \\n    - Arguments :\\n        - df_init : dataframe avec toutes les donn\\u00e9es \\n        - date_fin : inclusion des donn\\u00e9es jusqu'\\u00e0 cette date INCLUSE\\n    \\n    - Retourne :\\n        - 1 dataframe :  avec les variables n\\u00e9cessaires \\u00e0 la mod\\u00e9lisation\\n        recalcul\\u00e9es\\n    \\\"\\\"\\\"\\n\\n    # R\\u00e9cup\\u00e8ration des donn\\u00e9es sur la p\\u00e9riode d\\u00e9sir\\u00e9e\\n    df_time = df_init.loc[df_init[\\\"order_purchase_timestamp\\\"] <= date_fin]\\n\\n    # S\\u00e9lection des colonnes \\u00e0 garder pour faire les manipulations\\n    col_select = [\\n        \\\"customer_id\\\",\\n        \\\"customer_unique_id\\\",\\n        \\\"order_id\\\",\\n        \\\"order_purchase_timestamp\\\",\\n        \\\"order_item_id\\\",\\n        \\\"price\\\",\\n        \\\"freight_value\\\",\\n        \\\"review_score\\\",\\n    ]\\n\\n    # Tri par la plus r\\u00e9cente \\\"review_creation_date\\\"\\n    df_time = df_time.sort_values(\\n        [\\\"review_creation_date\\\"], ascending=False\\n    ).reset_index(drop=True)\\n\\n    # S\\u00e9lection des donn\\u00e9es selon les colonnes \\u00e0 garder\\n    df_time = df_time[col_select]\\n\\n    # Suppression des doublons au niveau de chaque commande\\n    # et de chaque produit\\n    # car plusieurs moyens de paiement et plusieurs review_creation_date\\n    # pour un m\\u00eame order_item_ide sont possibles\\n    df = (\\n        df_time.drop_duplicates([\\\"customer_id\\\", \\\"order_item_id\\\"], keep=\\\"first\\\")\\n        .sort_values([\\\"customer_unique_id\\\"], ascending=False)\\n        .reset_index(drop=True)\\n    )\\n\\n    # Dataframe avec juste la liste des customer_unique_id\\n    df_final = pd.DataFrame(\\n        df[\\\"customer_unique_id\\\"].unique(), columns=[\\\"customer_unique_id\\\"]\\n    )\\n\\n    # Nombre de commandes faites par customer_unique_id\\n    df_nb_cmd = df.groupby(\\\"customer_unique_id\\\")[\\\"customer_id\\\"].nunique()\\n    df_nb_cmd.rename(\\\"nb_cmd\\\", inplace=True)\\n\\n    # Cr\\u00e9ation de la colonne total_price\\n    df[\\\"total_price\\\"] = df[\\\"price\\\"] + df[\\\"freight_value\\\"]\\n    # Montant d\\u00e9pens\\u00e9 par customer_unique_id\\n    df_montant = df.groupby(\\\"customer_unique_id\\\")[\\\"total_price\\\"].sum()\\n    df_montant.rename(\\\"montant_dep\\\", inplace=True)\\n\\n    # Date d'achat la plus r\\u00e9cente par customer_unique_id\\n    df_last_time = df.groupby(\\\"customer_unique_id\\\")[\\\"order_purchase_timestamp\\\"].max()\\n    df_last_time.rename(\\\"last_time_cmd\\\", inplace=True)\\n\\n    # Nombre total de produits command\\u00e9s par customer_unique_id\\n    df_nb_prod = df.groupby(\\\"customer_unique_id\\\")[\\\"order_item_id\\\"].count()\\n    df_nb_prod.rename(\\\"nb_prod\\\", inplace=True)\\n\\n    # Note moyenne par customer_unique_id\\n    df_note_moy = (\\n        df.groupby([\\\"customer_unique_id\\\", \\\"customer_id\\\"])[\\\"review_score\\\"]\\n        .mean()\\n        .groupby([\\\"customer_unique_id\\\"])\\n        .mean()\\n    )\\n    df_note_moy.rename(\\\"note_moy\\\", inplace=True)\\n\\n    # Liste avec les nouvelles colonnes cr\\u00e9\\u00e9es\\n    new_col = [df_last_time, df_nb_cmd, df_montant, df_nb_prod, df_note_moy]\\n\\n    # Fusion avec le dataset de la liste des customer_unique_id\\n    for col in new_col:\\n        df_final = pd.merge(df_final, col, on=\\\"customer_unique_id\\\", how=\\\"right\\\")\\n\\n    # Cr\\u00e9ation de la colonne qui indique le nombre\\n    # de jours depuis la date de fin retenue\\n    df_final[\\\"nb_jours_last_cmd\\\"] = (\\n        date_fin - df_final[\\\"last_time_cmd\\\"]\\n    ) / np.timedelta64(1, \\\"D\\\")\\n\\n    # Suppression de la colonne 'last_time_cmd'\\n    df_final = df_final.drop(\\\"last_time_cmd\\\", axis=1)\\n\\n    # Arrondi des notes \\u00e0 un chiffre apr\\u00e8s la virgule\\n    df_final.note_moy = df_final.note_moy.round(1)\\n\\n    # Indexation sur 'customer_unique_id'\\n    df_final = df_final.set_index(\\\"customer_unique_id\\\")\\n\\n    return df_final\";\n",
       "                var nbb_formatted_code = \"def crea_df(df_init, date_fin):\\n\\n    \\\"\\\"\\\" Fonction pour cr\\u00e9er \\u00e0 partir du dataframe contenant toutes les donn\\u00e9es\\n    un dataframe jusqu'\\u00e0 une date choisie, avec les variables utilis\\u00e9es \\n    pour la mod\\u00e9lisation en les recalculant \\n        \\n    - Arguments :\\n        - df_init : dataframe avec toutes les donn\\u00e9es \\n        - date_fin : inclusion des donn\\u00e9es jusqu'\\u00e0 cette date INCLUSE\\n    \\n    - Retourne :\\n        - 1 dataframe :  avec les variables n\\u00e9cessaires \\u00e0 la mod\\u00e9lisation\\n        recalcul\\u00e9es\\n    \\\"\\\"\\\"\\n\\n    # R\\u00e9cup\\u00e8ration des donn\\u00e9es sur la p\\u00e9riode d\\u00e9sir\\u00e9e\\n    df_time = df_init.loc[df_init[\\\"order_purchase_timestamp\\\"] <= date_fin]\\n\\n    # S\\u00e9lection des colonnes \\u00e0 garder pour faire les manipulations\\n    col_select = [\\n        \\\"customer_id\\\",\\n        \\\"customer_unique_id\\\",\\n        \\\"order_id\\\",\\n        \\\"order_purchase_timestamp\\\",\\n        \\\"order_item_id\\\",\\n        \\\"price\\\",\\n        \\\"freight_value\\\",\\n        \\\"review_score\\\",\\n    ]\\n\\n    # Tri par la plus r\\u00e9cente \\\"review_creation_date\\\"\\n    df_time = df_time.sort_values(\\n        [\\\"review_creation_date\\\"], ascending=False\\n    ).reset_index(drop=True)\\n\\n    # S\\u00e9lection des donn\\u00e9es selon les colonnes \\u00e0 garder\\n    df_time = df_time[col_select]\\n\\n    # Suppression des doublons au niveau de chaque commande\\n    # et de chaque produit\\n    # car plusieurs moyens de paiement et plusieurs review_creation_date\\n    # pour un m\\u00eame order_item_ide sont possibles\\n    df = (\\n        df_time.drop_duplicates([\\\"customer_id\\\", \\\"order_item_id\\\"], keep=\\\"first\\\")\\n        .sort_values([\\\"customer_unique_id\\\"], ascending=False)\\n        .reset_index(drop=True)\\n    )\\n\\n    # Dataframe avec juste la liste des customer_unique_id\\n    df_final = pd.DataFrame(\\n        df[\\\"customer_unique_id\\\"].unique(), columns=[\\\"customer_unique_id\\\"]\\n    )\\n\\n    # Nombre de commandes faites par customer_unique_id\\n    df_nb_cmd = df.groupby(\\\"customer_unique_id\\\")[\\\"customer_id\\\"].nunique()\\n    df_nb_cmd.rename(\\\"nb_cmd\\\", inplace=True)\\n\\n    # Cr\\u00e9ation de la colonne total_price\\n    df[\\\"total_price\\\"] = df[\\\"price\\\"] + df[\\\"freight_value\\\"]\\n    # Montant d\\u00e9pens\\u00e9 par customer_unique_id\\n    df_montant = df.groupby(\\\"customer_unique_id\\\")[\\\"total_price\\\"].sum()\\n    df_montant.rename(\\\"montant_dep\\\", inplace=True)\\n\\n    # Date d'achat la plus r\\u00e9cente par customer_unique_id\\n    df_last_time = df.groupby(\\\"customer_unique_id\\\")[\\\"order_purchase_timestamp\\\"].max()\\n    df_last_time.rename(\\\"last_time_cmd\\\", inplace=True)\\n\\n    # Nombre total de produits command\\u00e9s par customer_unique_id\\n    df_nb_prod = df.groupby(\\\"customer_unique_id\\\")[\\\"order_item_id\\\"].count()\\n    df_nb_prod.rename(\\\"nb_prod\\\", inplace=True)\\n\\n    # Note moyenne par customer_unique_id\\n    df_note_moy = (\\n        df.groupby([\\\"customer_unique_id\\\", \\\"customer_id\\\"])[\\\"review_score\\\"]\\n        .mean()\\n        .groupby([\\\"customer_unique_id\\\"])\\n        .mean()\\n    )\\n    df_note_moy.rename(\\\"note_moy\\\", inplace=True)\\n\\n    # Liste avec les nouvelles colonnes cr\\u00e9\\u00e9es\\n    new_col = [df_last_time, df_nb_cmd, df_montant, df_nb_prod, df_note_moy]\\n\\n    # Fusion avec le dataset de la liste des customer_unique_id\\n    for col in new_col:\\n        df_final = pd.merge(df_final, col, on=\\\"customer_unique_id\\\", how=\\\"right\\\")\\n\\n    # Cr\\u00e9ation de la colonne qui indique le nombre\\n    # de jours depuis la date de fin retenue\\n    df_final[\\\"nb_jours_last_cmd\\\"] = (\\n        date_fin - df_final[\\\"last_time_cmd\\\"]\\n    ) / np.timedelta64(1, \\\"D\\\")\\n\\n    # Suppression de la colonne 'last_time_cmd'\\n    df_final = df_final.drop(\\\"last_time_cmd\\\", axis=1)\\n\\n    # Arrondi des notes \\u00e0 un chiffre apr\\u00e8s la virgule\\n    df_final.note_moy = df_final.note_moy.round(1)\\n\\n    # Indexation sur 'customer_unique_id'\\n    df_final = df_final.set_index(\\\"customer_unique_id\\\")\\n\\n    return df_final\";\n",
       "                var nbb_cells = Jupyter.notebook.get_cells();\n",
       "                for (var i = 0; i < nbb_cells.length; ++i) {\n",
       "                    if (nbb_cells[i].input_prompt_number == nbb_cell_id) {\n",
       "                        if (nbb_cells[i].get_text() == nbb_unformatted_code) {\n",
       "                             nbb_cells[i].set_text(nbb_formatted_code);\n",
       "                        }\n",
       "                        break;\n",
       "                    }\n",
       "                }\n",
       "            }, 500);\n",
       "            "
      ],
      "text/plain": [
       "<IPython.core.display.Javascript object>"
      ]
     },
     "metadata": {},
     "output_type": "display_data"
    }
   ],
   "source": [
    "def crea_df(df_init, date_fin):\n",
    "\n",
    "    \"\"\" Fonction pour créer à partir du dataframe contenant toutes les données\n",
    "    un dataframe jusqu'à une date choisie, avec les variables utilisées \n",
    "    pour la modélisation en les recalculant \n",
    "        \n",
    "    - Arguments :\n",
    "        - df_init : dataframe avec toutes les données \n",
    "        - date_fin : inclusion des données jusqu'à cette date INCLUSE\n",
    "    \n",
    "    - Retourne :\n",
    "        - 1 dataframe :  avec les variables nécessaires à la modélisation\n",
    "        recalculées\n",
    "    \"\"\"\n",
    "\n",
    "    # Récupèration des données sur la période désirée\n",
    "    df_time = df_init.loc[df_init[\"order_purchase_timestamp\"] <= date_fin]\n",
    "\n",
    "    # Sélection des colonnes à garder pour faire les manipulations\n",
    "    col_select = [\n",
    "        \"customer_id\",\n",
    "        \"customer_unique_id\",\n",
    "        \"order_id\",\n",
    "        \"order_purchase_timestamp\",\n",
    "        \"order_item_id\",\n",
    "        \"price\",\n",
    "        \"freight_value\",\n",
    "        \"review_score\",\n",
    "    ]\n",
    "\n",
    "    # Tri par la plus récente \"review_creation_date\"\n",
    "    df_time = df_time.sort_values(\n",
    "        [\"review_creation_date\"], ascending=False\n",
    "    ).reset_index(drop=True)\n",
    "\n",
    "    # Sélection des données selon les colonnes à garder\n",
    "    df_time = df_time[col_select]\n",
    "\n",
    "    # Suppression des doublons au niveau de chaque commande\n",
    "    # et de chaque produit\n",
    "    # car plusieurs moyens de paiement et plusieurs review_creation_date\n",
    "    # pour un même order_item_ide sont possibles\n",
    "    df = (\n",
    "        df_time.drop_duplicates([\"customer_id\", \"order_item_id\"], keep=\"first\")\n",
    "        .sort_values([\"customer_unique_id\"], ascending=False)\n",
    "        .reset_index(drop=True)\n",
    "    )\n",
    "\n",
    "    # Dataframe avec juste la liste des customer_unique_id\n",
    "    df_final = pd.DataFrame(\n",
    "        df[\"customer_unique_id\"].unique(), columns=[\"customer_unique_id\"]\n",
    "    )\n",
    "\n",
    "    # Nombre de commandes faites par customer_unique_id\n",
    "    df_nb_cmd = df.groupby(\"customer_unique_id\")[\"customer_id\"].nunique()\n",
    "    df_nb_cmd.rename(\"nb_cmd\", inplace=True)\n",
    "\n",
    "    # Création de la colonne total_price\n",
    "    df[\"total_price\"] = df[\"price\"] + df[\"freight_value\"]\n",
    "    # Montant dépensé par customer_unique_id\n",
    "    df_montant = df.groupby(\"customer_unique_id\")[\"total_price\"].sum()\n",
    "    df_montant.rename(\"montant_dep\", inplace=True)\n",
    "\n",
    "    # Date d'achat la plus récente par customer_unique_id\n",
    "    df_last_time = df.groupby(\"customer_unique_id\")[\"order_purchase_timestamp\"].max()\n",
    "    df_last_time.rename(\"last_time_cmd\", inplace=True)\n",
    "\n",
    "    # Nombre total de produits commandés par customer_unique_id\n",
    "    df_nb_prod = df.groupby(\"customer_unique_id\")[\"order_item_id\"].count()\n",
    "    df_nb_prod.rename(\"nb_prod\", inplace=True)\n",
    "\n",
    "    # Note moyenne par customer_unique_id\n",
    "    df_note_moy = (\n",
    "        df.groupby([\"customer_unique_id\", \"customer_id\"])[\"review_score\"]\n",
    "        .mean()\n",
    "        .groupby([\"customer_unique_id\"])\n",
    "        .mean()\n",
    "    )\n",
    "    df_note_moy.rename(\"note_moy\", inplace=True)\n",
    "\n",
    "    # Liste avec les nouvelles colonnes créées\n",
    "    new_col = [df_last_time, df_nb_cmd, df_montant, df_nb_prod, df_note_moy]\n",
    "\n",
    "    # Fusion avec le dataset de la liste des customer_unique_id\n",
    "    for col in new_col:\n",
    "        df_final = pd.merge(df_final, col, on=\"customer_unique_id\", how=\"right\")\n",
    "\n",
    "    # Création de la colonne qui indique le nombre\n",
    "    # de jours depuis la date de fin retenue\n",
    "    df_final[\"nb_jours_last_cmd\"] = (\n",
    "        date_fin - df_final[\"last_time_cmd\"]\n",
    "    ) / np.timedelta64(1, \"D\")\n",
    "\n",
    "    # Suppression de la colonne 'last_time_cmd'\n",
    "    df_final = df_final.drop(\"last_time_cmd\", axis=1)\n",
    "\n",
    "    # Arrondi des notes à un chiffre après la virgule\n",
    "    df_final.note_moy = df_final.note_moy.round(1)\n",
    "\n",
    "    # Indexation sur 'customer_unique_id'\n",
    "    df_final = df_final.set_index(\"customer_unique_id\")\n",
    "\n",
    "    return df_final"
   ]
  },
  {
   "cell_type": "code",
   "execution_count": 5,
   "id": "d63efe61",
   "metadata": {},
   "outputs": [
    {
     "data": {
      "text/plain": [
       "Timestamp('2018-09-03 09:06:57')"
      ]
     },
     "execution_count": 5,
     "metadata": {},
     "output_type": "execute_result"
    },
    {
     "data": {
      "application/javascript": [
       "\n",
       "            setTimeout(function() {\n",
       "                var nbb_cell_id = 5;\n",
       "                var nbb_unformatted_code = \"# Date la plus r\\u00e9cente du dataset global\\nlast_date = df_all[\\\"order_purchase_timestamp\\\"].max()\\nlast_date\";\n",
       "                var nbb_formatted_code = \"# Date la plus r\\u00e9cente du dataset global\\nlast_date = df_all[\\\"order_purchase_timestamp\\\"].max()\\nlast_date\";\n",
       "                var nbb_cells = Jupyter.notebook.get_cells();\n",
       "                for (var i = 0; i < nbb_cells.length; ++i) {\n",
       "                    if (nbb_cells[i].input_prompt_number == nbb_cell_id) {\n",
       "                        if (nbb_cells[i].get_text() == nbb_unformatted_code) {\n",
       "                             nbb_cells[i].set_text(nbb_formatted_code);\n",
       "                        }\n",
       "                        break;\n",
       "                    }\n",
       "                }\n",
       "            }, 500);\n",
       "            "
      ],
      "text/plain": [
       "<IPython.core.display.Javascript object>"
      ]
     },
     "metadata": {},
     "output_type": "display_data"
    }
   ],
   "source": [
    "# Date la plus récente du dataset global\n",
    "last_date = df_all[\"order_purchase_timestamp\"].max()\n",
    "last_date"
   ]
  },
  {
   "cell_type": "code",
   "execution_count": 6,
   "id": "683c40c3",
   "metadata": {},
   "outputs": [
    {
     "data": {
      "text/plain": [
       "Timestamp('2016-09-04 21:15:19')"
      ]
     },
     "execution_count": 6,
     "metadata": {},
     "output_type": "execute_result"
    },
    {
     "data": {
      "application/javascript": [
       "\n",
       "            setTimeout(function() {\n",
       "                var nbb_cell_id = 6;\n",
       "                var nbb_unformatted_code = \"# Date la plus ancienne du dataset global\\nfirst_date = df_all[\\\"order_purchase_timestamp\\\"].min()\\nfirst_date\";\n",
       "                var nbb_formatted_code = \"# Date la plus ancienne du dataset global\\nfirst_date = df_all[\\\"order_purchase_timestamp\\\"].min()\\nfirst_date\";\n",
       "                var nbb_cells = Jupyter.notebook.get_cells();\n",
       "                for (var i = 0; i < nbb_cells.length; ++i) {\n",
       "                    if (nbb_cells[i].input_prompt_number == nbb_cell_id) {\n",
       "                        if (nbb_cells[i].get_text() == nbb_unformatted_code) {\n",
       "                             nbb_cells[i].set_text(nbb_formatted_code);\n",
       "                        }\n",
       "                        break;\n",
       "                    }\n",
       "                }\n",
       "            }, 500);\n",
       "            "
      ],
      "text/plain": [
       "<IPython.core.display.Javascript object>"
      ]
     },
     "metadata": {},
     "output_type": "display_data"
    }
   ],
   "source": [
    "# Date la plus ancienne du dataset global\n",
    "first_date = df_all[\"order_purchase_timestamp\"].min()\n",
    "first_date"
   ]
  },
  {
   "cell_type": "code",
   "execution_count": 7,
   "id": "b3d7d795",
   "metadata": {},
   "outputs": [
    {
     "data": {
      "text/html": [
       "<div>\n",
       "<style scoped>\n",
       "    .dataframe tbody tr th:only-of-type {\n",
       "        vertical-align: middle;\n",
       "    }\n",
       "\n",
       "    .dataframe tbody tr th {\n",
       "        vertical-align: top;\n",
       "    }\n",
       "\n",
       "    .dataframe thead th {\n",
       "        text-align: right;\n",
       "    }\n",
       "</style>\n",
       "<table border=\"1\" class=\"dataframe\">\n",
       "  <thead>\n",
       "    <tr style=\"text-align: right;\">\n",
       "      <th></th>\n",
       "      <th>nb_cmd</th>\n",
       "      <th>montant_dep</th>\n",
       "      <th>nb_prod</th>\n",
       "      <th>note_moy</th>\n",
       "      <th>nb_jours_last_cmd</th>\n",
       "    </tr>\n",
       "  </thead>\n",
       "  <tbody>\n",
       "    <tr>\n",
       "      <th>count</th>\n",
       "      <td>94720.000000</td>\n",
       "      <td>94720.000000</td>\n",
       "      <td>94720.000000</td>\n",
       "      <td>94720.000000</td>\n",
       "      <td>94720.000000</td>\n",
       "    </tr>\n",
       "    <tr>\n",
       "      <th>mean</th>\n",
       "      <td>1.033742</td>\n",
       "      <td>165.748545</td>\n",
       "      <td>1.179318</td>\n",
       "      <td>4.102190</td>\n",
       "      <td>243.081803</td>\n",
       "    </tr>\n",
       "    <tr>\n",
       "      <th>std</th>\n",
       "      <td>0.210529</td>\n",
       "      <td>227.106060</td>\n",
       "      <td>0.616014</td>\n",
       "      <td>1.327064</td>\n",
       "      <td>153.162612</td>\n",
       "    </tr>\n",
       "    <tr>\n",
       "      <th>min</th>\n",
       "      <td>1.000000</td>\n",
       "      <td>9.590000</td>\n",
       "      <td>1.000000</td>\n",
       "      <td>1.000000</td>\n",
       "      <td>0.000000</td>\n",
       "    </tr>\n",
       "    <tr>\n",
       "      <th>25%</th>\n",
       "      <td>1.000000</td>\n",
       "      <td>63.100000</td>\n",
       "      <td>1.000000</td>\n",
       "      <td>4.000000</td>\n",
       "      <td>118.845509</td>\n",
       "    </tr>\n",
       "    <tr>\n",
       "      <th>50%</th>\n",
       "      <td>1.000000</td>\n",
       "      <td>107.850000</td>\n",
       "      <td>1.000000</td>\n",
       "      <td>5.000000</td>\n",
       "      <td>223.665006</td>\n",
       "    </tr>\n",
       "    <tr>\n",
       "      <th>75%</th>\n",
       "      <td>1.000000</td>\n",
       "      <td>182.910000</td>\n",
       "      <td>1.000000</td>\n",
       "      <td>5.000000</td>\n",
       "      <td>352.406001</td>\n",
       "    </tr>\n",
       "    <tr>\n",
       "      <th>max</th>\n",
       "      <td>16.000000</td>\n",
       "      <td>13664.080000</td>\n",
       "      <td>24.000000</td>\n",
       "      <td>5.000000</td>\n",
       "      <td>728.494190</td>\n",
       "    </tr>\n",
       "  </tbody>\n",
       "</table>\n",
       "</div>"
      ],
      "text/plain": [
       "             nb_cmd   montant_dep       nb_prod      note_moy  \\\n",
       "count  94720.000000  94720.000000  94720.000000  94720.000000   \n",
       "mean       1.033742    165.748545      1.179318      4.102190   \n",
       "std        0.210529    227.106060      0.616014      1.327064   \n",
       "min        1.000000      9.590000      1.000000      1.000000   \n",
       "25%        1.000000     63.100000      1.000000      4.000000   \n",
       "50%        1.000000    107.850000      1.000000      5.000000   \n",
       "75%        1.000000    182.910000      1.000000      5.000000   \n",
       "max       16.000000  13664.080000     24.000000      5.000000   \n",
       "\n",
       "       nb_jours_last_cmd  \n",
       "count       94720.000000  \n",
       "mean          243.081803  \n",
       "std           153.162612  \n",
       "min             0.000000  \n",
       "25%           118.845509  \n",
       "50%           223.665006  \n",
       "75%           352.406001  \n",
       "max           728.494190  "
      ]
     },
     "execution_count": 7,
     "metadata": {},
     "output_type": "execute_result"
    },
    {
     "data": {
      "application/javascript": [
       "\n",
       "            setTimeout(function() {\n",
       "                var nbb_cell_id = 7;\n",
       "                var nbb_unformatted_code = \"# V\\u00e9rification qu'on retombe bien sur le dataset global\\n# si on applique la fonction sur l'int\\u00e9gralit\\u00e9 des donn\\u00e9es\\nX_all = crea_df(df_all, last_date)\\nX_all.describe()\";\n",
       "                var nbb_formatted_code = \"# V\\u00e9rification qu'on retombe bien sur le dataset global\\n# si on applique la fonction sur l'int\\u00e9gralit\\u00e9 des donn\\u00e9es\\nX_all = crea_df(df_all, last_date)\\nX_all.describe()\";\n",
       "                var nbb_cells = Jupyter.notebook.get_cells();\n",
       "                for (var i = 0; i < nbb_cells.length; ++i) {\n",
       "                    if (nbb_cells[i].input_prompt_number == nbb_cell_id) {\n",
       "                        if (nbb_cells[i].get_text() == nbb_unformatted_code) {\n",
       "                             nbb_cells[i].set_text(nbb_formatted_code);\n",
       "                        }\n",
       "                        break;\n",
       "                    }\n",
       "                }\n",
       "            }, 500);\n",
       "            "
      ],
      "text/plain": [
       "<IPython.core.display.Javascript object>"
      ]
     },
     "metadata": {},
     "output_type": "display_data"
    }
   ],
   "source": [
    "# Vérification qu'on retombe bien sur le dataset global\n",
    "# si on applique la fonction sur l'intégralité des données\n",
    "X_all = crea_df(df_all, last_date)\n",
    "X_all.describe()"
   ]
  },
  {
   "cell_type": "markdown",
   "id": "497cbb12",
   "metadata": {},
   "source": [
    "On retombe bien sur les mêmes informations."
   ]
  },
  {
   "cell_type": "markdown",
   "id": "81951036",
   "metadata": {},
   "source": [
    "## 2. Modélisation\n",
    "### 2.1. Dataset période de base 1 : sept 2016 - déc 2017\n",
    "\n",
    "On va prendre comme premier dataset un dataset qui couvre septembre 2016 à décembre 2017 inclus."
   ]
  },
  {
   "cell_type": "code",
   "execution_count": 8,
   "id": "4c4f2cf5",
   "metadata": {},
   "outputs": [
    {
     "data": {
      "text/plain": [
       "(43167, 5)"
      ]
     },
     "execution_count": 8,
     "metadata": {},
     "output_type": "execute_result"
    },
    {
     "data": {
      "application/javascript": [
       "\n",
       "            setTimeout(function() {\n",
       "                var nbb_cell_id = 8;\n",
       "                var nbb_unformatted_code = \"# Date limite\\ndate_limit_1 = np.datetime64(\\\"2017-12-31 23:59:59\\\")\\n\\n# Dataset d'origine jusqu'au 31/12/2017 inclus\\nX1 = crea_df(df_all, date_limit_1)\\nX1.shape\";\n",
       "                var nbb_formatted_code = \"# Date limite\\ndate_limit_1 = np.datetime64(\\\"2017-12-31 23:59:59\\\")\\n\\n# Dataset d'origine jusqu'au 31/12/2017 inclus\\nX1 = crea_df(df_all, date_limit_1)\\nX1.shape\";\n",
       "                var nbb_cells = Jupyter.notebook.get_cells();\n",
       "                for (var i = 0; i < nbb_cells.length; ++i) {\n",
       "                    if (nbb_cells[i].input_prompt_number == nbb_cell_id) {\n",
       "                        if (nbb_cells[i].get_text() == nbb_unformatted_code) {\n",
       "                             nbb_cells[i].set_text(nbb_formatted_code);\n",
       "                        }\n",
       "                        break;\n",
       "                    }\n",
       "                }\n",
       "            }, 500);\n",
       "            "
      ],
      "text/plain": [
       "<IPython.core.display.Javascript object>"
      ]
     },
     "metadata": {},
     "output_type": "display_data"
    }
   ],
   "source": [
    "# Date limite\n",
    "date_limit_1 = np.datetime64(\"2017-12-31 23:59:59\")\n",
    "\n",
    "# Dataset d'origine jusqu'au 31/12/2017 inclus\n",
    "X1 = crea_df(df_all, date_limit_1)\n",
    "X1.shape"
   ]
  },
  {
   "cell_type": "markdown",
   "id": "815a70f7",
   "metadata": {},
   "source": [
    "#### a. Préparation des données\n",
    "##### Normalisation des données"
   ]
  },
  {
   "cell_type": "code",
   "execution_count": 9,
   "id": "7b36f0d9",
   "metadata": {},
   "outputs": [
    {
     "data": {
      "text/plain": [
       "(43167, 3)"
      ]
     },
     "execution_count": 9,
     "metadata": {},
     "output_type": "execute_result"
    },
    {
     "data": {
      "application/javascript": [
       "\n",
       "            setTimeout(function() {\n",
       "                var nbb_cell_id = 9;\n",
       "                var nbb_unformatted_code = \"# Normalisation des donn\\u00e9es avec RobustScaler\\n# Sur les 3 variables montant_dep, note_moy, nb_jours_last_cmd\\nrobust_scal_1 = RobustScaler().fit(X1[[\\\"montant_dep\\\", \\\"note_moy\\\", \\\"nb_jours_last_cmd\\\"]])\\nX1_scaled = robust_scal_1.transform(\\n    X1[[\\\"montant_dep\\\", \\\"note_moy\\\", \\\"nb_jours_last_cmd\\\"]]\\n)\\nX1_scaled.shape\";\n",
       "                var nbb_formatted_code = \"# Normalisation des donn\\u00e9es avec RobustScaler\\n# Sur les 3 variables montant_dep, note_moy, nb_jours_last_cmd\\nrobust_scal_1 = RobustScaler().fit(X1[[\\\"montant_dep\\\", \\\"note_moy\\\", \\\"nb_jours_last_cmd\\\"]])\\nX1_scaled = robust_scal_1.transform(\\n    X1[[\\\"montant_dep\\\", \\\"note_moy\\\", \\\"nb_jours_last_cmd\\\"]]\\n)\\nX1_scaled.shape\";\n",
       "                var nbb_cells = Jupyter.notebook.get_cells();\n",
       "                for (var i = 0; i < nbb_cells.length; ++i) {\n",
       "                    if (nbb_cells[i].input_prompt_number == nbb_cell_id) {\n",
       "                        if (nbb_cells[i].get_text() == nbb_unformatted_code) {\n",
       "                             nbb_cells[i].set_text(nbb_formatted_code);\n",
       "                        }\n",
       "                        break;\n",
       "                    }\n",
       "                }\n",
       "            }, 500);\n",
       "            "
      ],
      "text/plain": [
       "<IPython.core.display.Javascript object>"
      ]
     },
     "metadata": {},
     "output_type": "display_data"
    }
   ],
   "source": [
    "# Normalisation des données avec RobustScaler\n",
    "# Sur les 3 variables montant_dep, note_moy, nb_jours_last_cmd\n",
    "robust_scal_1 = RobustScaler().fit(X1[[\"montant_dep\", \"note_moy\", \"nb_jours_last_cmd\"]])\n",
    "X1_scaled = robust_scal_1.transform(\n",
    "    X1[[\"montant_dep\", \"note_moy\", \"nb_jours_last_cmd\"]]\n",
    ")\n",
    "X1_scaled.shape"
   ]
  },
  {
   "cell_type": "markdown",
   "id": "bff08c26",
   "metadata": {},
   "source": [
    "##### Entrainement du modèle sur période de base"
   ]
  },
  {
   "cell_type": "code",
   "execution_count": 10,
   "id": "e1f2e5d2",
   "metadata": {},
   "outputs": [
    {
     "data": {
      "text/plain": [
       "0.526441170842467"
      ]
     },
     "execution_count": 10,
     "metadata": {},
     "output_type": "execute_result"
    },
    {
     "data": {
      "application/javascript": [
       "\n",
       "            setTimeout(function() {\n",
       "                var nbb_cell_id = 10;\n",
       "                var nbb_unformatted_code = \"# Mod\\u00e8le de base\\nkmeans_1 = KMeans(n_clusters=4, random_state=1).fit(X1_scaled)\\nlabels_1 = kmeans_1.labels_\\n\\n# Calcul du coefficient de silhouette\\nsilhouette_score_1 = silhouette_score(X1_scaled, labels_1)\\nsilhouette_score_1\";\n",
       "                var nbb_formatted_code = \"# Mod\\u00e8le de base\\nkmeans_1 = KMeans(n_clusters=4, random_state=1).fit(X1_scaled)\\nlabels_1 = kmeans_1.labels_\\n\\n# Calcul du coefficient de silhouette\\nsilhouette_score_1 = silhouette_score(X1_scaled, labels_1)\\nsilhouette_score_1\";\n",
       "                var nbb_cells = Jupyter.notebook.get_cells();\n",
       "                for (var i = 0; i < nbb_cells.length; ++i) {\n",
       "                    if (nbb_cells[i].input_prompt_number == nbb_cell_id) {\n",
       "                        if (nbb_cells[i].get_text() == nbb_unformatted_code) {\n",
       "                             nbb_cells[i].set_text(nbb_formatted_code);\n",
       "                        }\n",
       "                        break;\n",
       "                    }\n",
       "                }\n",
       "            }, 500);\n",
       "            "
      ],
      "text/plain": [
       "<IPython.core.display.Javascript object>"
      ]
     },
     "metadata": {},
     "output_type": "display_data"
    }
   ],
   "source": [
    "# Modèle de base\n",
    "kmeans_1 = KMeans(n_clusters=4, random_state=1).fit(X1_scaled)\n",
    "labels_1 = kmeans_1.labels_\n",
    "\n",
    "# Calcul du coefficient de silhouette\n",
    "silhouette_score_1 = silhouette_score(X1_scaled, labels_1)\n",
    "silhouette_score_1"
   ]
  },
  {
   "cell_type": "markdown",
   "id": "e69cb39b",
   "metadata": {},
   "source": [
    "##### Observation de la répartition des clusters obtenus"
   ]
  },
  {
   "cell_type": "code",
   "execution_count": 11,
   "id": "e683a4fa",
   "metadata": {},
   "outputs": [
    {
     "data": {
      "application/javascript": [
       "\n",
       "            setTimeout(function() {\n",
       "                var nbb_cell_id = 11;\n",
       "                var nbb_unformatted_code = \"def df_with_col_label(labels, X):\\n\\n    \\\"\\\"\\\" Fonction pour ajouter la colonne labels dans le dataset d'origine\\n    selon le mod\\u00e8le choisi\\n        \\n    - Arguments :\\n        - labels : labels obtenus par clustering\\n        - X : dataframe d'origine \\u00e0 qui il faut ajouter la colonne label\\n    \\n    - Retourne :\\n        - un dataset avec donn\\u00e9es d'origine + colonne labels\\n    \\\"\\\"\\\"\\n\\n    # R\\u00e9cup\\u00e9ration des labels du  mod\\u00e8le\\n    labels_model = labels\\n\\n    # Copie du dataset d'origine\\n    X1 = X.copy()\\n\\n    # Ajout de la colonne label\\n    X1[\\\"label\\\"] = labels_model\\n\\n    return X1\";\n",
       "                var nbb_formatted_code = \"def df_with_col_label(labels, X):\\n\\n    \\\"\\\"\\\" Fonction pour ajouter la colonne labels dans le dataset d'origine\\n    selon le mod\\u00e8le choisi\\n        \\n    - Arguments :\\n        - labels : labels obtenus par clustering\\n        - X : dataframe d'origine \\u00e0 qui il faut ajouter la colonne label\\n    \\n    - Retourne :\\n        - un dataset avec donn\\u00e9es d'origine + colonne labels\\n    \\\"\\\"\\\"\\n\\n    # R\\u00e9cup\\u00e9ration des labels du  mod\\u00e8le\\n    labels_model = labels\\n\\n    # Copie du dataset d'origine\\n    X1 = X.copy()\\n\\n    # Ajout de la colonne label\\n    X1[\\\"label\\\"] = labels_model\\n\\n    return X1\";\n",
       "                var nbb_cells = Jupyter.notebook.get_cells();\n",
       "                for (var i = 0; i < nbb_cells.length; ++i) {\n",
       "                    if (nbb_cells[i].input_prompt_number == nbb_cell_id) {\n",
       "                        if (nbb_cells[i].get_text() == nbb_unformatted_code) {\n",
       "                             nbb_cells[i].set_text(nbb_formatted_code);\n",
       "                        }\n",
       "                        break;\n",
       "                    }\n",
       "                }\n",
       "            }, 500);\n",
       "            "
      ],
      "text/plain": [
       "<IPython.core.display.Javascript object>"
      ]
     },
     "metadata": {},
     "output_type": "display_data"
    }
   ],
   "source": [
    "def df_with_col_label(labels, X):\n",
    "\n",
    "    \"\"\" Fonction pour ajouter la colonne labels dans le dataset d'origine\n",
    "    selon le modèle choisi\n",
    "        \n",
    "    - Arguments :\n",
    "        - labels : labels obtenus par clustering\n",
    "        - X : dataframe d'origine à qui il faut ajouter la colonne label\n",
    "    \n",
    "    - Retourne :\n",
    "        - un dataset avec données d'origine + colonne labels\n",
    "    \"\"\"\n",
    "\n",
    "    # Récupération des labels du  modèle\n",
    "    labels_model = labels\n",
    "\n",
    "    # Copie du dataset d'origine\n",
    "    X1 = X.copy()\n",
    "\n",
    "    # Ajout de la colonne label\n",
    "    X1[\"label\"] = labels_model\n",
    "\n",
    "    return X1"
   ]
  },
  {
   "cell_type": "code",
   "execution_count": 12,
   "id": "835eb104",
   "metadata": {},
   "outputs": [
    {
     "data": {
      "application/javascript": [
       "\n",
       "            setTimeout(function() {\n",
       "                var nbb_cell_id = 12;\n",
       "                var nbb_unformatted_code = \"def perc_cluster_repartition(X_with_col_label):\\n\\n    \\\"\\\"\\\" Fonction pour visualiser la r\\u00e9partition en pourcentage des individus\\n    selon les clusters (= labels)\\n        \\n    - Arguments :\\n        - X_with_col_label : dataframe d'origine avec la colonne label\\n    \\n    - Affiche :\\n        - un graphe repr\\u00e9sentant la distribution du nombre d'individus \\n        par cluster, en pourcentage\\n        \\n    - Retourne : \\n        - le nombre d'individus par cluster\\n    \\\"\\\"\\\"\\n\\n    # Visulisation sous forme de barplot\\n    plt.figure(figsize=(8, 6))\\n    ax = sns.barplot(\\n        x=X_with_col_label[\\\"label\\\"].value_counts().index,\\n        y=X_with_col_label[\\\"label\\\"].value_counts().values / len(X_with_col_label) * 100,\\n        palette=\\\"tab20\\\",\\n    )\\n    plt.title(\\\"Distribution du nombre d'individus par cluster, en pourcentage\\\", size=14)\\n\\n    # ajout des \\u00e9tiquettes pour afficher valeurs de pourcentages\\n    for p in ax.patches:\\n        ax.annotate(\\n            format((p.get_height()), \\\".1f\\\"),\\n            (p.get_x() + p.get_width() / 2.0, p.get_height()),\\n            ha=\\\"center\\\",\\n            va=\\\"center\\\",\\n            xytext=(0, 9),\\n            textcoords=\\\"offset points\\\",\\n            fontsize=12,\\n        )\\n    plt.show()\\n\\n    return X_with_col_label[\\\"label\\\"].value_counts()\";\n",
       "                var nbb_formatted_code = \"def perc_cluster_repartition(X_with_col_label):\\n\\n    \\\"\\\"\\\" Fonction pour visualiser la r\\u00e9partition en pourcentage des individus\\n    selon les clusters (= labels)\\n        \\n    - Arguments :\\n        - X_with_col_label : dataframe d'origine avec la colonne label\\n    \\n    - Affiche :\\n        - un graphe repr\\u00e9sentant la distribution du nombre d'individus \\n        par cluster, en pourcentage\\n        \\n    - Retourne : \\n        - le nombre d'individus par cluster\\n    \\\"\\\"\\\"\\n\\n    # Visulisation sous forme de barplot\\n    plt.figure(figsize=(8, 6))\\n    ax = sns.barplot(\\n        x=X_with_col_label[\\\"label\\\"].value_counts().index,\\n        y=X_with_col_label[\\\"label\\\"].value_counts().values / len(X_with_col_label) * 100,\\n        palette=\\\"tab20\\\",\\n    )\\n    plt.title(\\\"Distribution du nombre d'individus par cluster, en pourcentage\\\", size=14)\\n\\n    # ajout des \\u00e9tiquettes pour afficher valeurs de pourcentages\\n    for p in ax.patches:\\n        ax.annotate(\\n            format((p.get_height()), \\\".1f\\\"),\\n            (p.get_x() + p.get_width() / 2.0, p.get_height()),\\n            ha=\\\"center\\\",\\n            va=\\\"center\\\",\\n            xytext=(0, 9),\\n            textcoords=\\\"offset points\\\",\\n            fontsize=12,\\n        )\\n    plt.show()\\n\\n    return X_with_col_label[\\\"label\\\"].value_counts()\";\n",
       "                var nbb_cells = Jupyter.notebook.get_cells();\n",
       "                for (var i = 0; i < nbb_cells.length; ++i) {\n",
       "                    if (nbb_cells[i].input_prompt_number == nbb_cell_id) {\n",
       "                        if (nbb_cells[i].get_text() == nbb_unformatted_code) {\n",
       "                             nbb_cells[i].set_text(nbb_formatted_code);\n",
       "                        }\n",
       "                        break;\n",
       "                    }\n",
       "                }\n",
       "            }, 500);\n",
       "            "
      ],
      "text/plain": [
       "<IPython.core.display.Javascript object>"
      ]
     },
     "metadata": {},
     "output_type": "display_data"
    }
   ],
   "source": [
    "def perc_cluster_repartition(X_with_col_label):\n",
    "\n",
    "    \"\"\" Fonction pour visualiser la répartition en pourcentage des individus\n",
    "    selon les clusters (= labels)\n",
    "        \n",
    "    - Arguments :\n",
    "        - X_with_col_label : dataframe d'origine avec la colonne label\n",
    "    \n",
    "    - Affiche :\n",
    "        - un graphe représentant la distribution du nombre d'individus \n",
    "        par cluster, en pourcentage\n",
    "        \n",
    "    - Retourne : \n",
    "        - le nombre d'individus par cluster\n",
    "    \"\"\"\n",
    "\n",
    "    # Visulisation sous forme de barplot\n",
    "    plt.figure(figsize=(8, 6))\n",
    "    ax = sns.barplot(\n",
    "        x=X_with_col_label[\"label\"].value_counts().index,\n",
    "        y=X_with_col_label[\"label\"].value_counts().values / len(X_with_col_label) * 100,\n",
    "        palette=\"tab20\",\n",
    "    )\n",
    "    plt.title(\"Distribution du nombre d'individus par cluster, en pourcentage\", size=14)\n",
    "\n",
    "    # ajout des étiquettes pour afficher valeurs de pourcentages\n",
    "    for p in ax.patches:\n",
    "        ax.annotate(\n",
    "            format((p.get_height()), \".1f\"),\n",
    "            (p.get_x() + p.get_width() / 2.0, p.get_height()),\n",
    "            ha=\"center\",\n",
    "            va=\"center\",\n",
    "            xytext=(0, 9),\n",
    "            textcoords=\"offset points\",\n",
    "            fontsize=12,\n",
    "        )\n",
    "    plt.show()\n",
    "\n",
    "    return X_with_col_label[\"label\"].value_counts()"
   ]
  },
  {
   "cell_type": "code",
   "execution_count": 13,
   "id": "d67a2b47",
   "metadata": {},
   "outputs": [
    {
     "data": {
      "text/html": [
       "<div>\n",
       "<style scoped>\n",
       "    .dataframe tbody tr th:only-of-type {\n",
       "        vertical-align: middle;\n",
       "    }\n",
       "\n",
       "    .dataframe tbody tr th {\n",
       "        vertical-align: top;\n",
       "    }\n",
       "\n",
       "    .dataframe thead th {\n",
       "        text-align: right;\n",
       "    }\n",
       "</style>\n",
       "<table border=\"1\" class=\"dataframe\">\n",
       "  <thead>\n",
       "    <tr style=\"text-align: right;\">\n",
       "      <th></th>\n",
       "      <th>nb_cmd</th>\n",
       "      <th>montant_dep</th>\n",
       "      <th>nb_prod</th>\n",
       "      <th>note_moy</th>\n",
       "      <th>nb_jours_last_cmd</th>\n",
       "      <th>label</th>\n",
       "    </tr>\n",
       "    <tr>\n",
       "      <th>customer_unique_id</th>\n",
       "      <th></th>\n",
       "      <th></th>\n",
       "      <th></th>\n",
       "      <th></th>\n",
       "      <th></th>\n",
       "      <th></th>\n",
       "    </tr>\n",
       "  </thead>\n",
       "  <tbody>\n",
       "    <tr>\n",
       "      <th>0000f46a3911fa3c0805444483337064</th>\n",
       "      <td>1</td>\n",
       "      <td>86.22</td>\n",
       "      <td>1</td>\n",
       "      <td>3.0</td>\n",
       "      <td>296.121481</td>\n",
       "      <td>1</td>\n",
       "    </tr>\n",
       "    <tr>\n",
       "      <th>0000f6ccb0745a6a4b88665a16c9f078</th>\n",
       "      <td>1</td>\n",
       "      <td>43.62</td>\n",
       "      <td>1</td>\n",
       "      <td>4.0</td>\n",
       "      <td>80.146042</td>\n",
       "      <td>0</td>\n",
       "    </tr>\n",
       "    <tr>\n",
       "      <th>0004aac84e0df4da2b147fca70cf8255</th>\n",
       "      <td>1</td>\n",
       "      <td>196.89</td>\n",
       "      <td>1</td>\n",
       "      <td>5.0</td>\n",
       "      <td>47.176586</td>\n",
       "      <td>0</td>\n",
       "    </tr>\n",
       "    <tr>\n",
       "      <th>0005e1862207bf6ccc02e4228effd9a0</th>\n",
       "      <td>1</td>\n",
       "      <td>150.12</td>\n",
       "      <td>1</td>\n",
       "      <td>4.0</td>\n",
       "      <td>302.019294</td>\n",
       "      <td>0</td>\n",
       "    </tr>\n",
       "    <tr>\n",
       "      <th>0006fdc98a402fceb4eb0ee528f6a8d4</th>\n",
       "      <td>1</td>\n",
       "      <td>29.00</td>\n",
       "      <td>1</td>\n",
       "      <td>3.0</td>\n",
       "      <td>166.608900</td>\n",
       "      <td>1</td>\n",
       "    </tr>\n",
       "    <tr>\n",
       "      <th>...</th>\n",
       "      <td>...</td>\n",
       "      <td>...</td>\n",
       "      <td>...</td>\n",
       "      <td>...</td>\n",
       "      <td>...</td>\n",
       "      <td>...</td>\n",
       "    </tr>\n",
       "    <tr>\n",
       "      <th>fffbf87b7a1a6fa8b03f081c5f51a201</th>\n",
       "      <td>1</td>\n",
       "      <td>167.32</td>\n",
       "      <td>1</td>\n",
       "      <td>5.0</td>\n",
       "      <td>4.057847</td>\n",
       "      <td>0</td>\n",
       "    </tr>\n",
       "    <tr>\n",
       "      <th>fffcf5a5ff07b0908bd4e2dbc735a684</th>\n",
       "      <td>1</td>\n",
       "      <td>2067.42</td>\n",
       "      <td>2</td>\n",
       "      <td>5.0</td>\n",
       "      <td>206.124572</td>\n",
       "      <td>2</td>\n",
       "    </tr>\n",
       "    <tr>\n",
       "      <th>fffea47cd6d3cc0a88bd621562a9d061</th>\n",
       "      <td>1</td>\n",
       "      <td>84.58</td>\n",
       "      <td>1</td>\n",
       "      <td>4.0</td>\n",
       "      <td>21.161146</td>\n",
       "      <td>0</td>\n",
       "    </tr>\n",
       "    <tr>\n",
       "      <th>ffff371b4d645b6ecea244b27531430a</th>\n",
       "      <td>1</td>\n",
       "      <td>112.46</td>\n",
       "      <td>1</td>\n",
       "      <td>5.0</td>\n",
       "      <td>327.340775</td>\n",
       "      <td>0</td>\n",
       "    </tr>\n",
       "    <tr>\n",
       "      <th>ffffd2657e2aad2907e67c3e9daecbeb</th>\n",
       "      <td>1</td>\n",
       "      <td>71.56</td>\n",
       "      <td>1</td>\n",
       "      <td>5.0</td>\n",
       "      <td>243.153634</td>\n",
       "      <td>0</td>\n",
       "    </tr>\n",
       "  </tbody>\n",
       "</table>\n",
       "<p>43167 rows × 6 columns</p>\n",
       "</div>"
      ],
      "text/plain": [
       "                                  nb_cmd  montant_dep  nb_prod  note_moy  \\\n",
       "customer_unique_id                                                         \n",
       "0000f46a3911fa3c0805444483337064       1        86.22        1       3.0   \n",
       "0000f6ccb0745a6a4b88665a16c9f078       1        43.62        1       4.0   \n",
       "0004aac84e0df4da2b147fca70cf8255       1       196.89        1       5.0   \n",
       "0005e1862207bf6ccc02e4228effd9a0       1       150.12        1       4.0   \n",
       "0006fdc98a402fceb4eb0ee528f6a8d4       1        29.00        1       3.0   \n",
       "...                                  ...          ...      ...       ...   \n",
       "fffbf87b7a1a6fa8b03f081c5f51a201       1       167.32        1       5.0   \n",
       "fffcf5a5ff07b0908bd4e2dbc735a684       1      2067.42        2       5.0   \n",
       "fffea47cd6d3cc0a88bd621562a9d061       1        84.58        1       4.0   \n",
       "ffff371b4d645b6ecea244b27531430a       1       112.46        1       5.0   \n",
       "ffffd2657e2aad2907e67c3e9daecbeb       1        71.56        1       5.0   \n",
       "\n",
       "                                  nb_jours_last_cmd  label  \n",
       "customer_unique_id                                          \n",
       "0000f46a3911fa3c0805444483337064         296.121481      1  \n",
       "0000f6ccb0745a6a4b88665a16c9f078          80.146042      0  \n",
       "0004aac84e0df4da2b147fca70cf8255          47.176586      0  \n",
       "0005e1862207bf6ccc02e4228effd9a0         302.019294      0  \n",
       "0006fdc98a402fceb4eb0ee528f6a8d4         166.608900      1  \n",
       "...                                             ...    ...  \n",
       "fffbf87b7a1a6fa8b03f081c5f51a201           4.057847      0  \n",
       "fffcf5a5ff07b0908bd4e2dbc735a684         206.124572      2  \n",
       "fffea47cd6d3cc0a88bd621562a9d061          21.161146      0  \n",
       "ffff371b4d645b6ecea244b27531430a         327.340775      0  \n",
       "ffffd2657e2aad2907e67c3e9daecbeb         243.153634      0  \n",
       "\n",
       "[43167 rows x 6 columns]"
      ]
     },
     "execution_count": 13,
     "metadata": {},
     "output_type": "execute_result"
    },
    {
     "data": {
      "application/javascript": [
       "\n",
       "            setTimeout(function() {\n",
       "                var nbb_cell_id = 13;\n",
       "                var nbb_unformatted_code = \"X1_labeled = df_with_col_label(labels_1, X1)\\nX1_labeled\";\n",
       "                var nbb_formatted_code = \"X1_labeled = df_with_col_label(labels_1, X1)\\nX1_labeled\";\n",
       "                var nbb_cells = Jupyter.notebook.get_cells();\n",
       "                for (var i = 0; i < nbb_cells.length; ++i) {\n",
       "                    if (nbb_cells[i].input_prompt_number == nbb_cell_id) {\n",
       "                        if (nbb_cells[i].get_text() == nbb_unformatted_code) {\n",
       "                             nbb_cells[i].set_text(nbb_formatted_code);\n",
       "                        }\n",
       "                        break;\n",
       "                    }\n",
       "                }\n",
       "            }, 500);\n",
       "            "
      ],
      "text/plain": [
       "<IPython.core.display.Javascript object>"
      ]
     },
     "metadata": {},
     "output_type": "display_data"
    }
   ],
   "source": [
    "X1_labeled = df_with_col_label(labels_1, X1)\n",
    "X1_labeled"
   ]
  },
  {
   "cell_type": "code",
   "execution_count": 14,
   "id": "21d87d5e",
   "metadata": {},
   "outputs": [
    {
     "data": {
      "text/plain": [
       "0    30711\n",
       "1     8990\n",
       "3     3066\n",
       "2      400\n",
       "Name: label, dtype: int64"
      ]
     },
     "execution_count": 14,
     "metadata": {},
     "output_type": "execute_result"
    },
    {
     "data": {
      "application/javascript": [
       "\n",
       "            setTimeout(function() {\n",
       "                var nbb_cell_id = 14;\n",
       "                var nbb_unformatted_code = \"X1_labeled[\\\"label\\\"].value_counts()\";\n",
       "                var nbb_formatted_code = \"X1_labeled[\\\"label\\\"].value_counts()\";\n",
       "                var nbb_cells = Jupyter.notebook.get_cells();\n",
       "                for (var i = 0; i < nbb_cells.length; ++i) {\n",
       "                    if (nbb_cells[i].input_prompt_number == nbb_cell_id) {\n",
       "                        if (nbb_cells[i].get_text() == nbb_unformatted_code) {\n",
       "                             nbb_cells[i].set_text(nbb_formatted_code);\n",
       "                        }\n",
       "                        break;\n",
       "                    }\n",
       "                }\n",
       "            }, 500);\n",
       "            "
      ],
      "text/plain": [
       "<IPython.core.display.Javascript object>"
      ]
     },
     "metadata": {},
     "output_type": "display_data"
    }
   ],
   "source": [
    "X1_labeled[\"label\"].value_counts()"
   ]
  },
  {
   "cell_type": "code",
   "execution_count": 15,
   "id": "b9e5acee",
   "metadata": {},
   "outputs": [
    {
     "data": {
      "image/png": "[encoded data removed]",
      "text/plain": [
       "<Figure size 576x432 with 1 Axes>"
      ]
     },
     "metadata": {},
     "output_type": "display_data"
    },
    {
     "data": {
      "text/plain": [
       "0    30711\n",
       "1     8990\n",
       "2     3066\n",
       "3      400\n",
       "Name: label, dtype: int64"
      ]
     },
     "execution_count": 15,
     "metadata": {},
     "output_type": "execute_result"
    },
    {
     "data": {
      "application/javascript": [
       "\n",
       "            setTimeout(function() {\n",
       "                var nbb_cell_id = 15;\n",
       "                var nbb_unformatted_code = \"# Changement des num\\u00e9ros de clusters pour avoir dans\\n# l'ordre d\\u00e9croissant en nombre de clients\\nX1_labeled_copy = X1_labeled.copy()\\nX1_labeled_copy[\\\"label\\\"].replace([0, 1, 3, 2], [0, 1, 2, 3], inplace=True)\\n\\n# R\\u00e9partition des clusters\\nperc_cluster_repartition(X1_labeled_copy)\";\n",
       "                var nbb_formatted_code = \"# Changement des num\\u00e9ros de clusters pour avoir dans\\n# l'ordre d\\u00e9croissant en nombre de clients\\nX1_labeled_copy = X1_labeled.copy()\\nX1_labeled_copy[\\\"label\\\"].replace([0, 1, 3, 2], [0, 1, 2, 3], inplace=True)\\n\\n# R\\u00e9partition des clusters\\nperc_cluster_repartition(X1_labeled_copy)\";\n",
       "                var nbb_cells = Jupyter.notebook.get_cells();\n",
       "                for (var i = 0; i < nbb_cells.length; ++i) {\n",
       "                    if (nbb_cells[i].input_prompt_number == nbb_cell_id) {\n",
       "                        if (nbb_cells[i].get_text() == nbb_unformatted_code) {\n",
       "                             nbb_cells[i].set_text(nbb_formatted_code);\n",
       "                        }\n",
       "                        break;\n",
       "                    }\n",
       "                }\n",
       "            }, 500);\n",
       "            "
      ],
      "text/plain": [
       "<IPython.core.display.Javascript object>"
      ]
     },
     "metadata": {},
     "output_type": "display_data"
    }
   ],
   "source": [
    "# Changement des numéros de clusters pour avoir dans\n",
    "# l'ordre décroissant en nombre de clients\n",
    "X1_labeled_copy = X1_labeled.copy()\n",
    "X1_labeled_copy[\"label\"].replace([0, 1, 3, 2], [0, 1, 2, 3], inplace=True)\n",
    "\n",
    "# Répartition des clusters\n",
    "perc_cluster_repartition(X1_labeled_copy)"
   ]
  },
  {
   "cell_type": "markdown",
   "id": "8e01af48",
   "metadata": {},
   "source": [
    "On a quasiment les mêmes pourcentages qu'avec le dataset entier."
   ]
  },
  {
   "cell_type": "code",
   "execution_count": 16,
   "id": "f291235a",
   "metadata": {},
   "outputs": [
    {
     "data": {
      "application/javascript": [
       "\n",
       "            setTimeout(function() {\n",
       "                var nbb_cell_id = 16;\n",
       "                var nbb_unformatted_code = \"def plot_var_cluster(X_with_col_label):\\n\\n    \\\"\\\"\\\" Fonction pour visualiser la r\\u00e9partition des variables\\n    selon les clusters ( = labels)\\n        \\n    - Arguments :\\n        - X_with_col_label : dataframe d'origine avec la colonne label\\n    \\n    - Affiche :\\n        - 2 graphes pour chaque variable du dataframe X_with_col_label\\n            - barplot repr\\u00e9sentant la moyenne de la variable selon le cluster\\n            - boxplot de la variable selon le cluster\\n    \\\"\\\"\\\"\\n\\n    # On regroupe par label\\n    X_labeled = X_with_col_label.groupby(\\\"label\\\").mean()\\n\\n    for col in X_labeled.columns:\\n\\n        # Initialisation de la figure\\n        f, axes = plt.subplots(1, 2, figsize=(15, 4))\\n\\n        # boxplot de la variable selon le cluster\\n        sns.boxplot(\\n            y=\\\"label\\\",\\n            x=col,\\n            data=X_with_col_label,\\n            orient=\\\"h\\\",\\n            ax=axes[0],\\n            palette=\\\"tab20\\\",\\n        )\\n\\n        # barplot de la valeur moyenne de la variable selon le cluster\\n        sns.barplot(\\n            y=X_labeled.index,\\n            x=col,\\n            data=X_labeled,\\n            orient=\\\"h\\\",\\n            ax=axes[1],\\n            palette=\\\"tab20\\\",\\n        )\\n\\n        plt.title(\\\"Moyenne de {} pour chaque cluster\\\".format(col), size=14)\\n        plt.show()\";\n",
       "                var nbb_formatted_code = \"def plot_var_cluster(X_with_col_label):\\n\\n    \\\"\\\"\\\" Fonction pour visualiser la r\\u00e9partition des variables\\n    selon les clusters ( = labels)\\n        \\n    - Arguments :\\n        - X_with_col_label : dataframe d'origine avec la colonne label\\n    \\n    - Affiche :\\n        - 2 graphes pour chaque variable du dataframe X_with_col_label\\n            - barplot repr\\u00e9sentant la moyenne de la variable selon le cluster\\n            - boxplot de la variable selon le cluster\\n    \\\"\\\"\\\"\\n\\n    # On regroupe par label\\n    X_labeled = X_with_col_label.groupby(\\\"label\\\").mean()\\n\\n    for col in X_labeled.columns:\\n\\n        # Initialisation de la figure\\n        f, axes = plt.subplots(1, 2, figsize=(15, 4))\\n\\n        # boxplot de la variable selon le cluster\\n        sns.boxplot(\\n            y=\\\"label\\\",\\n            x=col,\\n            data=X_with_col_label,\\n            orient=\\\"h\\\",\\n            ax=axes[0],\\n            palette=\\\"tab20\\\",\\n        )\\n\\n        # barplot de la valeur moyenne de la variable selon le cluster\\n        sns.barplot(\\n            y=X_labeled.index,\\n            x=col,\\n            data=X_labeled,\\n            orient=\\\"h\\\",\\n            ax=axes[1],\\n            palette=\\\"tab20\\\",\\n        )\\n\\n        plt.title(\\\"Moyenne de {} pour chaque cluster\\\".format(col), size=14)\\n        plt.show()\";\n",
       "                var nbb_cells = Jupyter.notebook.get_cells();\n",
       "                for (var i = 0; i < nbb_cells.length; ++i) {\n",
       "                    if (nbb_cells[i].input_prompt_number == nbb_cell_id) {\n",
       "                        if (nbb_cells[i].get_text() == nbb_unformatted_code) {\n",
       "                             nbb_cells[i].set_text(nbb_formatted_code);\n",
       "                        }\n",
       "                        break;\n",
       "                    }\n",
       "                }\n",
       "            }, 500);\n",
       "            "
      ],
      "text/plain": [
       "<IPython.core.display.Javascript object>"
      ]
     },
     "metadata": {},
     "output_type": "display_data"
    }
   ],
   "source": [
    "def plot_var_cluster(X_with_col_label):\n",
    "\n",
    "    \"\"\" Fonction pour visualiser la répartition des variables\n",
    "    selon les clusters ( = labels)\n",
    "        \n",
    "    - Arguments :\n",
    "        - X_with_col_label : dataframe d'origine avec la colonne label\n",
    "    \n",
    "    - Affiche :\n",
    "        - 2 graphes pour chaque variable du dataframe X_with_col_label\n",
    "            - barplot représentant la moyenne de la variable selon le cluster\n",
    "            - boxplot de la variable selon le cluster\n",
    "    \"\"\"\n",
    "\n",
    "    # On regroupe par label\n",
    "    X_labeled = X_with_col_label.groupby(\"label\").mean()\n",
    "\n",
    "    for col in X_labeled.columns:\n",
    "\n",
    "        # Initialisation de la figure\n",
    "        f, axes = plt.subplots(1, 2, figsize=(15, 4))\n",
    "\n",
    "        # boxplot de la variable selon le cluster\n",
    "        sns.boxplot(\n",
    "            y=\"label\",\n",
    "            x=col,\n",
    "            data=X_with_col_label,\n",
    "            orient=\"h\",\n",
    "            ax=axes[0],\n",
    "            palette=\"tab20\",\n",
    "        )\n",
    "\n",
    "        # barplot de la valeur moyenne de la variable selon le cluster\n",
    "        sns.barplot(\n",
    "            y=X_labeled.index,\n",
    "            x=col,\n",
    "            data=X_labeled,\n",
    "            orient=\"h\",\n",
    "            ax=axes[1],\n",
    "            palette=\"tab20\",\n",
    "        )\n",
    "\n",
    "        plt.title(\"Moyenne de {} pour chaque cluster\".format(col), size=14)\n",
    "        plt.show()"
   ]
  },
  {
   "cell_type": "code",
   "execution_count": 17,
   "id": "98225e01",
   "metadata": {},
   "outputs": [
    {
     "data": {
      "image/png": "[encoded data removed]",
      "text/plain": [
       "<Figure size 1080x288 with 2 Axes>"
      ]
     },
     "metadata": {},
     "output_type": "display_data"
    },
    {
     "data": {
      "image/png": "[encoded data removed]",
      "text/plain": [
       "<Figure size 1080x288 with 2 Axes>"
      ]
     },
     "metadata": {},
     "output_type": "display_data"
    },
    {
     "data": {
      "image/png": "[encoded data removed]",
      "text/plain": [
       "<Figure size 1080x288 with 2 Axes>"
      ]
     },
     "metadata": {},
     "output_type": "display_data"
    },
    {
     "data": {
      "image/png": "[encoded data removed]",
      "text/plain": [
       "<Figure size 1080x288 with 2 Axes>"
      ]
     },
     "metadata": {},
     "output_type": "display_data"
    },
    {
     "data": {
      "image/png": "[encoded data removed]",
      "text/plain": [
       "<Figure size 1080x288 with 2 Axes>"
      ]
     },
     "metadata": {},
     "output_type": "display_data"
    },
    {
     "data": {
      "application/javascript": [
       "\n",
       "            setTimeout(function() {\n",
       "                var nbb_cell_id = 17;\n",
       "                var nbb_unformatted_code = \"# Visualisation de la distribution des variables\\nplot_var_cluster(X1_labeled_copy)\";\n",
       "                var nbb_formatted_code = \"# Visualisation de la distribution des variables\\nplot_var_cluster(X1_labeled_copy)\";\n",
       "                var nbb_cells = Jupyter.notebook.get_cells();\n",
       "                for (var i = 0; i < nbb_cells.length; ++i) {\n",
       "                    if (nbb_cells[i].input_prompt_number == nbb_cell_id) {\n",
       "                        if (nbb_cells[i].get_text() == nbb_unformatted_code) {\n",
       "                             nbb_cells[i].set_text(nbb_formatted_code);\n",
       "                        }\n",
       "                        break;\n",
       "                    }\n",
       "                }\n",
       "            }, 500);\n",
       "            "
      ],
      "text/plain": [
       "<IPython.core.display.Javascript object>"
      ]
     },
     "metadata": {},
     "output_type": "display_data"
    }
   ],
   "source": [
    "# Visualisation de la distribution des variables\n",
    "plot_var_cluster(X1_labeled_copy)"
   ]
  },
  {
   "cell_type": "markdown",
   "id": "6e48d63b",
   "metadata": {},
   "source": [
    "On retrouve les mêmes distributions que celles obtenues avec le dataset entier."
   ]
  },
  {
   "cell_type": "markdown",
   "id": "70c070ca",
   "metadata": {},
   "source": [
    "#### b. Ajout de nouveaux clients"
   ]
  },
  {
   "cell_type": "code",
   "execution_count": 18,
   "id": "0d6d3186",
   "metadata": {},
   "outputs": [
    {
     "data": {
      "application/javascript": [
       "\n",
       "            setTimeout(function() {\n",
       "                var nbb_cell_id = 18;\n",
       "                var nbb_unformatted_code = \"def results_ARI(time_range, kmeans_pred, scaler):\\n\\n    \\\"\\\"\\\" Fonction pour stocker dans un dataframe pour chaque p\\u00e9riode donn\\u00e9e\\n     le nombre de clients, le nombre total de commandes, \\n     le nombre total de produits command\\u00e9sle score de l'ARI, \\n     les scores de Silhouette\\n        \\n    - Arguments :\\n        - time_range : liste des p\\u00e9riodes\\n        - kmeans_pred : kmeans entrain\\u00e9 sur la p\\u00e9riode de base, qui fera\\n        ici les pr\\u00e9dictions\\n        - scaler : scaler utilis\\u00e9 pour le kmeans entrain\\u00e9 sur la p\\u00e9riode de base\\n    \\n    - Retourne :\\n        - un dataframe avec \\n            - le mois auquel on fait la pr\\u00e9diction \\n            (donn\\u00e9es s'arr\\u00eatent au dernier jour du mois pr\\u00e9c\\u00e9dent)\\n            - le nombre de clients\\n            - le nombre total de commandes\\n            - le nombre total de produits command\\u00e9s\\n            - le score de l'ARI (Adjusted Range Index)\\n            - le score de Silhouette du kmeans de pr\\u00e9diction\\n            - le score de Silhouette du kmeans \\\"true\\\"\\n    \\\"\\\"\\\"\\n\\n    # Dataframe pour r\\u00e9cup\\u00e9rer les r\\u00e9sultats\\n    results_maj_month = pd.DataFrame(\\n        columns=[\\n            \\\"mois_maj\\\",\\n            \\\"nombre_clients\\\",\\n            \\\"nombre_total_cmd\\\",\\n            \\\"nombre_total_prod_cmd\\\",\\n            \\\"ARI\\\",\\n            \\\"Silhouette_pred\\\",\\n            \\\"Silhouette_true\\\",\\n        ]\\n    )\\n\\n    for time in time_range:\\n\\n        # Cr\\u00e9ation du dataset augment\\u00e9 de nouveaux clients\\n        X_aug = crea_df(df_all, time)\\n\\n        # Nombre de clients\\n        nb_cust = X_aug.shape[0]\\n\\n        # Nombre total de commandes\\n        nb_cmd_tot = X_aug[\\\"nb_cmd\\\"].sum()\\n\\n        # Nombre total de produits command\\u00e9s\\n        nb_prod_tot = X_aug[\\\"nb_prod\\\"].sum()\\n\\n        # Normalisation des donn\\u00e9es mod\\u00e8le \\\"true\\\"\\n        robust_scal = RobustScaler().fit(\\n            X_aug[[\\\"montant_dep\\\", \\\"note_moy\\\", \\\"nb_jours_last_cmd\\\"]]\\n        )\\n        X_aug_scaled = robust_scal.transform(\\n            X_aug[[\\\"montant_dep\\\", \\\"note_moy\\\", \\\"nb_jours_last_cmd\\\"]]\\n        )\\n\\n        # Normalisation des donn\\u00e9es mod\\u00e8le \\\"predict\\\"\\n        # utilise le scaler entrain\\u00e9 lors de la p\\u00e9riode de base\\n        X_aug_scaled_1 = scaler.transform(\\n            X_aug[[\\\"montant_dep\\\", \\\"note_moy\\\", \\\"nb_jours_last_cmd\\\"]]\\n        )\\n\\n        # Mod\\u00e9lisation\\n        kmeans_true = KMeans(n_clusters=4, random_state=1).fit(X_aug_scaled)\\n\\n        # R\\u00e9cup\\u00e9ration des \\\"true\\\" labels des clients\\n        labels_true = kmeans_true.predict(X_aug_scaled)\\n\\n        # R\\u00e9cup\\u00e9ration des \\\"predicted\\\" labels des clients\\n        label_pred = kmeans_pred.predict(X_aug_scaled_1)\\n\\n        # On stocke les r\\u00e9sultats\\n        results = {\\n            \\\"mois_maj\\\": time,\\n            \\\"nombre_clients\\\": nb_cust,\\n            \\\"nombre_total_cmd\\\": nb_cmd_tot,\\n            \\\"nombre_total_prod_cmd\\\": nb_prod_tot,\\n            \\\"ARI\\\": adjusted_rand_score(labels_true, label_pred),\\n            \\\"Silhouette_pred\\\": silhouette_score(X_aug_scaled_1, label_pred),\\n            \\\"Silhouette_true\\\": silhouette_score(X_aug_scaled, labels_true),\\n        }\\n\\n        # On ajoute les r\\u00e9sultats au dataframe\\n        results_maj_month = results_maj_month.append(results, ignore_index=True)\\n\\n    return results_maj_month\";\n",
       "                var nbb_formatted_code = \"def results_ARI(time_range, kmeans_pred, scaler):\\n\\n    \\\"\\\"\\\" Fonction pour stocker dans un dataframe pour chaque p\\u00e9riode donn\\u00e9e\\n     le nombre de clients, le nombre total de commandes, \\n     le nombre total de produits command\\u00e9sle score de l'ARI, \\n     les scores de Silhouette\\n        \\n    - Arguments :\\n        - time_range : liste des p\\u00e9riodes\\n        - kmeans_pred : kmeans entrain\\u00e9 sur la p\\u00e9riode de base, qui fera\\n        ici les pr\\u00e9dictions\\n        - scaler : scaler utilis\\u00e9 pour le kmeans entrain\\u00e9 sur la p\\u00e9riode de base\\n    \\n    - Retourne :\\n        - un dataframe avec \\n            - le mois auquel on fait la pr\\u00e9diction \\n            (donn\\u00e9es s'arr\\u00eatent au dernier jour du mois pr\\u00e9c\\u00e9dent)\\n            - le nombre de clients\\n            - le nombre total de commandes\\n            - le nombre total de produits command\\u00e9s\\n            - le score de l'ARI (Adjusted Range Index)\\n            - le score de Silhouette du kmeans de pr\\u00e9diction\\n            - le score de Silhouette du kmeans \\\"true\\\"\\n    \\\"\\\"\\\"\\n\\n    # Dataframe pour r\\u00e9cup\\u00e9rer les r\\u00e9sultats\\n    results_maj_month = pd.DataFrame(\\n        columns=[\\n            \\\"mois_maj\\\",\\n            \\\"nombre_clients\\\",\\n            \\\"nombre_total_cmd\\\",\\n            \\\"nombre_total_prod_cmd\\\",\\n            \\\"ARI\\\",\\n            \\\"Silhouette_pred\\\",\\n            \\\"Silhouette_true\\\",\\n        ]\\n    )\\n\\n    for time in time_range:\\n\\n        # Cr\\u00e9ation du dataset augment\\u00e9 de nouveaux clients\\n        X_aug = crea_df(df_all, time)\\n\\n        # Nombre de clients\\n        nb_cust = X_aug.shape[0]\\n\\n        # Nombre total de commandes\\n        nb_cmd_tot = X_aug[\\\"nb_cmd\\\"].sum()\\n\\n        # Nombre total de produits command\\u00e9s\\n        nb_prod_tot = X_aug[\\\"nb_prod\\\"].sum()\\n\\n        # Normalisation des donn\\u00e9es mod\\u00e8le \\\"true\\\"\\n        robust_scal = RobustScaler().fit(\\n            X_aug[[\\\"montant_dep\\\", \\\"note_moy\\\", \\\"nb_jours_last_cmd\\\"]]\\n        )\\n        X_aug_scaled = robust_scal.transform(\\n            X_aug[[\\\"montant_dep\\\", \\\"note_moy\\\", \\\"nb_jours_last_cmd\\\"]]\\n        )\\n\\n        # Normalisation des donn\\u00e9es mod\\u00e8le \\\"predict\\\"\\n        # utilise le scaler entrain\\u00e9 lors de la p\\u00e9riode de base\\n        X_aug_scaled_1 = scaler.transform(\\n            X_aug[[\\\"montant_dep\\\", \\\"note_moy\\\", \\\"nb_jours_last_cmd\\\"]]\\n        )\\n\\n        # Mod\\u00e9lisation\\n        kmeans_true = KMeans(n_clusters=4, random_state=1).fit(X_aug_scaled)\\n\\n        # R\\u00e9cup\\u00e9ration des \\\"true\\\" labels des clients\\n        labels_true = kmeans_true.predict(X_aug_scaled)\\n\\n        # R\\u00e9cup\\u00e9ration des \\\"predicted\\\" labels des clients\\n        label_pred = kmeans_pred.predict(X_aug_scaled_1)\\n\\n        # On stocke les r\\u00e9sultats\\n        results = {\\n            \\\"mois_maj\\\": time,\\n            \\\"nombre_clients\\\": nb_cust,\\n            \\\"nombre_total_cmd\\\": nb_cmd_tot,\\n            \\\"nombre_total_prod_cmd\\\": nb_prod_tot,\\n            \\\"ARI\\\": adjusted_rand_score(labels_true, label_pred),\\n            \\\"Silhouette_pred\\\": silhouette_score(X_aug_scaled_1, label_pred),\\n            \\\"Silhouette_true\\\": silhouette_score(X_aug_scaled, labels_true),\\n        }\\n\\n        # On ajoute les r\\u00e9sultats au dataframe\\n        results_maj_month = results_maj_month.append(results, ignore_index=True)\\n\\n    return results_maj_month\";\n",
       "                var nbb_cells = Jupyter.notebook.get_cells();\n",
       "                for (var i = 0; i < nbb_cells.length; ++i) {\n",
       "                    if (nbb_cells[i].input_prompt_number == nbb_cell_id) {\n",
       "                        if (nbb_cells[i].get_text() == nbb_unformatted_code) {\n",
       "                             nbb_cells[i].set_text(nbb_formatted_code);\n",
       "                        }\n",
       "                        break;\n",
       "                    }\n",
       "                }\n",
       "            }, 500);\n",
       "            "
      ],
      "text/plain": [
       "<IPython.core.display.Javascript object>"
      ]
     },
     "metadata": {},
     "output_type": "display_data"
    }
   ],
   "source": [
    "def results_ARI(time_range, kmeans_pred, scaler):\n",
    "\n",
    "    \"\"\" Fonction pour stocker dans un dataframe pour chaque période donnée\n",
    "     le nombre de clients, le nombre total de commandes, \n",
    "     le nombre total de produits commandésle score de l'ARI, \n",
    "     les scores de Silhouette\n",
    "        \n",
    "    - Arguments :\n",
    "        - time_range : liste des périodes\n",
    "        - kmeans_pred : kmeans entrainé sur la période de base, qui fera\n",
    "        ici les prédictions\n",
    "        - scaler : scaler utilisé pour le kmeans entrainé sur la période de base\n",
    "    \n",
    "    - Retourne :\n",
    "        - un dataframe avec \n",
    "            - le mois auquel on fait la prédiction \n",
    "            (données s'arrêtent au dernier jour du mois précédent)\n",
    "            - le nombre de clients\n",
    "            - le nombre total de commandes\n",
    "            - le nombre total de produits commandés\n",
    "            - le score de l'ARI (Adjusted Range Index)\n",
    "            - le score de Silhouette du kmeans de prédiction\n",
    "            - le score de Silhouette du kmeans \"true\"\n",
    "    \"\"\"\n",
    "\n",
    "    # Dataframe pour récupérer les résultats\n",
    "    results_maj_month = pd.DataFrame(\n",
    "        columns=[\n",
    "            \"mois_maj\",\n",
    "            \"nombre_clients\",\n",
    "            \"nombre_total_cmd\",\n",
    "            \"nombre_total_prod_cmd\",\n",
    "            \"ARI\",\n",
    "            \"Silhouette_pred\",\n",
    "            \"Silhouette_true\",\n",
    "        ]\n",
    "    )\n",
    "\n",
    "    for time in time_range:\n",
    "\n",
    "        # Création du dataset augmenté de nouveaux clients\n",
    "        X_aug = crea_df(df_all, time)\n",
    "\n",
    "        # Nombre de clients\n",
    "        nb_cust = X_aug.shape[0]\n",
    "\n",
    "        # Nombre total de commandes\n",
    "        nb_cmd_tot = X_aug[\"nb_cmd\"].sum()\n",
    "\n",
    "        # Nombre total de produits commandés\n",
    "        nb_prod_tot = X_aug[\"nb_prod\"].sum()\n",
    "\n",
    "        # Normalisation des données modèle \"true\"\n",
    "        robust_scal = RobustScaler().fit(\n",
    "            X_aug[[\"montant_dep\", \"note_moy\", \"nb_jours_last_cmd\"]]\n",
    "        )\n",
    "        X_aug_scaled = robust_scal.transform(\n",
    "            X_aug[[\"montant_dep\", \"note_moy\", \"nb_jours_last_cmd\"]]\n",
    "        )\n",
    "\n",
    "        # Normalisation des données modèle \"predict\"\n",
    "        # utilise le scaler entrainé lors de la période de base\n",
    "        X_aug_scaled_1 = scaler.transform(\n",
    "            X_aug[[\"montant_dep\", \"note_moy\", \"nb_jours_last_cmd\"]]\n",
    "        )\n",
    "\n",
    "        # Modélisation\n",
    "        kmeans_true = KMeans(n_clusters=4, random_state=1).fit(X_aug_scaled)\n",
    "\n",
    "        # Récupération des \"true\" labels des clients\n",
    "        labels_true = kmeans_true.predict(X_aug_scaled)\n",
    "\n",
    "        # Récupération des \"predicted\" labels des clients\n",
    "        label_pred = kmeans_pred.predict(X_aug_scaled_1)\n",
    "\n",
    "        # On stocke les résultats\n",
    "        results = {\n",
    "            \"mois_maj\": time,\n",
    "            \"nombre_clients\": nb_cust,\n",
    "            \"nombre_total_cmd\": nb_cmd_tot,\n",
    "            \"nombre_total_prod_cmd\": nb_prod_tot,\n",
    "            \"ARI\": adjusted_rand_score(labels_true, label_pred),\n",
    "            \"Silhouette_pred\": silhouette_score(X_aug_scaled_1, label_pred),\n",
    "            \"Silhouette_true\": silhouette_score(X_aug_scaled, labels_true),\n",
    "        }\n",
    "\n",
    "        # On ajoute les résultats au dataframe\n",
    "        results_maj_month = results_maj_month.append(results, ignore_index=True)\n",
    "\n",
    "    return results_maj_month"
   ]
  },
  {
   "cell_type": "code",
   "execution_count": 19,
   "id": "8fc28f9a",
   "metadata": {},
   "outputs": [
    {
     "data": {
      "application/javascript": [
       "\n",
       "            setTimeout(function() {\n",
       "                var nbb_cell_id = 19;\n",
       "                var nbb_unformatted_code = \"# P\\u00e9riodicit\\u00e9 par mois\\ntime_range1 = np.arange(\\\"2018-01\\\", \\\"2018-11\\\", dtype=\\\"datetime64[M]\\\")\";\n",
       "                var nbb_formatted_code = \"# P\\u00e9riodicit\\u00e9 par mois\\ntime_range1 = np.arange(\\\"2018-01\\\", \\\"2018-11\\\", dtype=\\\"datetime64[M]\\\")\";\n",
       "                var nbb_cells = Jupyter.notebook.get_cells();\n",
       "                for (var i = 0; i < nbb_cells.length; ++i) {\n",
       "                    if (nbb_cells[i].input_prompt_number == nbb_cell_id) {\n",
       "                        if (nbb_cells[i].get_text() == nbb_unformatted_code) {\n",
       "                             nbb_cells[i].set_text(nbb_formatted_code);\n",
       "                        }\n",
       "                        break;\n",
       "                    }\n",
       "                }\n",
       "            }, 500);\n",
       "            "
      ],
      "text/plain": [
       "<IPython.core.display.Javascript object>"
      ]
     },
     "metadata": {},
     "output_type": "display_data"
    }
   ],
   "source": [
    "# Périodicité par mois\n",
    "time_range1 = np.arange(\"2018-01\", \"2018-11\", dtype=\"datetime64[M]\")"
   ]
  },
  {
   "cell_type": "code",
   "execution_count": 20,
   "id": "70a88bb6",
   "metadata": {},
   "outputs": [
    {
     "name": "stderr",
     "output_type": "stream",
     "text": [
      "/Users/gru/opt/anaconda3/lib/python3.8/site-packages/sklearn/metrics/cluster/_supervised.py:389: RuntimeWarning: overflow encountered in long_scalars\n",
      "  return 2. * (tp * tn - fn * fp) / ((tp + fn) * (fn + tn) +\n",
      "/Users/gru/opt/anaconda3/lib/python3.8/site-packages/sklearn/metrics/cluster/_supervised.py:389: RuntimeWarning: overflow encountered in long_scalars\n",
      "  return 2. * (tp * tn - fn * fp) / ((tp + fn) * (fn + tn) +\n",
      "/Users/gru/opt/anaconda3/lib/python3.8/site-packages/sklearn/metrics/cluster/_supervised.py:389: RuntimeWarning: overflow encountered in long_scalars\n",
      "  return 2. * (tp * tn - fn * fp) / ((tp + fn) * (fn + tn) +\n",
      "/Users/gru/opt/anaconda3/lib/python3.8/site-packages/sklearn/metrics/cluster/_supervised.py:390: RuntimeWarning: overflow encountered in long_scalars\n",
      "  (tp + fp) * (fp + tn))\n",
      "/Users/gru/opt/anaconda3/lib/python3.8/site-packages/sklearn/metrics/cluster/_supervised.py:389: RuntimeWarning: overflow encountered in long_scalars\n",
      "  return 2. * (tp * tn - fn * fp) / ((tp + fn) * (fn + tn) +\n",
      "/Users/gru/opt/anaconda3/lib/python3.8/site-packages/sklearn/metrics/cluster/_supervised.py:390: RuntimeWarning: overflow encountered in long_scalars\n",
      "  (tp + fp) * (fp + tn))\n",
      "/Users/gru/opt/anaconda3/lib/python3.8/site-packages/sklearn/metrics/cluster/_supervised.py:389: RuntimeWarning: overflow encountered in long_scalars\n",
      "  return 2. * (tp * tn - fn * fp) / ((tp + fn) * (fn + tn) +\n",
      "/Users/gru/opt/anaconda3/lib/python3.8/site-packages/sklearn/metrics/cluster/_supervised.py:390: RuntimeWarning: overflow encountered in long_scalars\n",
      "  (tp + fp) * (fp + tn))\n",
      "/Users/gru/opt/anaconda3/lib/python3.8/site-packages/sklearn/metrics/cluster/_supervised.py:389: RuntimeWarning: overflow encountered in long_scalars\n",
      "  return 2. * (tp * tn - fn * fp) / ((tp + fn) * (fn + tn) +\n",
      "/Users/gru/opt/anaconda3/lib/python3.8/site-packages/sklearn/metrics/cluster/_supervised.py:390: RuntimeWarning: overflow encountered in long_scalars\n",
      "  (tp + fp) * (fp + tn))\n"
     ]
    },
    {
     "data": {
      "text/html": [
       "<div>\n",
       "<style scoped>\n",
       "    .dataframe tbody tr th:only-of-type {\n",
       "        vertical-align: middle;\n",
       "    }\n",
       "\n",
       "    .dataframe tbody tr th {\n",
       "        vertical-align: top;\n",
       "    }\n",
       "\n",
       "    .dataframe thead th {\n",
       "        text-align: right;\n",
       "    }\n",
       "</style>\n",
       "<table border=\"1\" class=\"dataframe\">\n",
       "  <thead>\n",
       "    <tr style=\"text-align: right;\">\n",
       "      <th></th>\n",
       "      <th>mois_maj</th>\n",
       "      <th>nombre_clients</th>\n",
       "      <th>nombre_total_cmd</th>\n",
       "      <th>nombre_total_prod_cmd</th>\n",
       "      <th>ARI</th>\n",
       "      <th>Silhouette_pred</th>\n",
       "      <th>Silhouette_true</th>\n",
       "    </tr>\n",
       "  </thead>\n",
       "  <tbody>\n",
       "    <tr>\n",
       "      <th>0</th>\n",
       "      <td>2018-01-01</td>\n",
       "      <td>43167</td>\n",
       "      <td>44511</td>\n",
       "      <td>50747</td>\n",
       "      <td>1.000000</td>\n",
       "      <td>0.526441</td>\n",
       "      <td>0.526441</td>\n",
       "    </tr>\n",
       "    <tr>\n",
       "      <th>1</th>\n",
       "      <td>2018-02-01</td>\n",
       "      <td>50090</td>\n",
       "      <td>51665</td>\n",
       "      <td>58877</td>\n",
       "      <td>0.997779</td>\n",
       "      <td>0.518243</td>\n",
       "      <td>0.519100</td>\n",
       "    </tr>\n",
       "    <tr>\n",
       "      <th>2</th>\n",
       "      <td>2018-03-01</td>\n",
       "      <td>56465</td>\n",
       "      <td>58305</td>\n",
       "      <td>66477</td>\n",
       "      <td>0.996059</td>\n",
       "      <td>0.512727</td>\n",
       "      <td>0.518644</td>\n",
       "    </tr>\n",
       "    <tr>\n",
       "      <th>3</th>\n",
       "      <td>2018-04-01</td>\n",
       "      <td>63352</td>\n",
       "      <td>65429</td>\n",
       "      <td>74621</td>\n",
       "      <td>0.997568</td>\n",
       "      <td>0.506522</td>\n",
       "      <td>0.520042</td>\n",
       "    </tr>\n",
       "    <tr>\n",
       "      <th>4</th>\n",
       "      <td>2018-05-01</td>\n",
       "      <td>70012</td>\n",
       "      <td>72307</td>\n",
       "      <td>82529</td>\n",
       "      <td>-1.823738</td>\n",
       "      <td>0.499403</td>\n",
       "      <td>0.519984</td>\n",
       "    </tr>\n",
       "    <tr>\n",
       "      <th>5</th>\n",
       "      <td>2018-06-01</td>\n",
       "      <td>76583</td>\n",
       "      <td>79126</td>\n",
       "      <td>90406</td>\n",
       "      <td>-12.027280</td>\n",
       "      <td>0.492663</td>\n",
       "      <td>0.519589</td>\n",
       "    </tr>\n",
       "    <tr>\n",
       "      <th>6</th>\n",
       "      <td>2018-07-01</td>\n",
       "      <td>82492</td>\n",
       "      <td>85260</td>\n",
       "      <td>97446</td>\n",
       "      <td>-3.163520</td>\n",
       "      <td>0.486035</td>\n",
       "      <td>0.519148</td>\n",
       "    </tr>\n",
       "    <tr>\n",
       "      <th>7</th>\n",
       "      <td>2018-08-01</td>\n",
       "      <td>88506</td>\n",
       "      <td>91488</td>\n",
       "      <td>104485</td>\n",
       "      <td>1.052570</td>\n",
       "      <td>0.479122</td>\n",
       "      <td>0.519242</td>\n",
       "    </tr>\n",
       "    <tr>\n",
       "      <th>8</th>\n",
       "      <td>2018-09-01</td>\n",
       "      <td>94720</td>\n",
       "      <td>97915</td>\n",
       "      <td>111704</td>\n",
       "      <td>0.859392</td>\n",
       "      <td>0.472319</td>\n",
       "      <td>0.518686</td>\n",
       "    </tr>\n",
       "    <tr>\n",
       "      <th>9</th>\n",
       "      <td>2018-10-01</td>\n",
       "      <td>94720</td>\n",
       "      <td>97916</td>\n",
       "      <td>111705</td>\n",
       "      <td>0.856725</td>\n",
       "      <td>0.472318</td>\n",
       "      <td>0.518691</td>\n",
       "    </tr>\n",
       "  </tbody>\n",
       "</table>\n",
       "</div>"
      ],
      "text/plain": [
       "    mois_maj nombre_clients nombre_total_cmd nombre_total_prod_cmd        ARI  \\\n",
       "0 2018-01-01          43167            44511                 50747   1.000000   \n",
       "1 2018-02-01          50090            51665                 58877   0.997779   \n",
       "2 2018-03-01          56465            58305                 66477   0.996059   \n",
       "3 2018-04-01          63352            65429                 74621   0.997568   \n",
       "4 2018-05-01          70012            72307                 82529  -1.823738   \n",
       "5 2018-06-01          76583            79126                 90406 -12.027280   \n",
       "6 2018-07-01          82492            85260                 97446  -3.163520   \n",
       "7 2018-08-01          88506            91488                104485   1.052570   \n",
       "8 2018-09-01          94720            97915                111704   0.859392   \n",
       "9 2018-10-01          94720            97916                111705   0.856725   \n",
       "\n",
       "   Silhouette_pred  Silhouette_true  \n",
       "0         0.526441         0.526441  \n",
       "1         0.518243         0.519100  \n",
       "2         0.512727         0.518644  \n",
       "3         0.506522         0.520042  \n",
       "4         0.499403         0.519984  \n",
       "5         0.492663         0.519589  \n",
       "6         0.486035         0.519148  \n",
       "7         0.479122         0.519242  \n",
       "8         0.472319         0.518686  \n",
       "9         0.472318         0.518691  "
      ]
     },
     "execution_count": 20,
     "metadata": {},
     "output_type": "execute_result"
    },
    {
     "data": {
      "application/javascript": [
       "\n",
       "            setTimeout(function() {\n",
       "                var nbb_cell_id = 20;\n",
       "                var nbb_unformatted_code = \"results_1 = results_ARI(time_range1, kmeans_1, robust_scal_1)\\nresults_1\";\n",
       "                var nbb_formatted_code = \"results_1 = results_ARI(time_range1, kmeans_1, robust_scal_1)\\nresults_1\";\n",
       "                var nbb_cells = Jupyter.notebook.get_cells();\n",
       "                for (var i = 0; i < nbb_cells.length; ++i) {\n",
       "                    if (nbb_cells[i].input_prompt_number == nbb_cell_id) {\n",
       "                        if (nbb_cells[i].get_text() == nbb_unformatted_code) {\n",
       "                             nbb_cells[i].set_text(nbb_formatted_code);\n",
       "                        }\n",
       "                        break;\n",
       "                    }\n",
       "                }\n",
       "            }, 500);\n",
       "            "
      ],
      "text/plain": [
       "<IPython.core.display.Javascript object>"
      ]
     },
     "metadata": {},
     "output_type": "display_data"
    }
   ],
   "source": [
    "results_1 = results_ARI(time_range1, kmeans_1, robust_scal_1)\n",
    "results_1"
   ]
  },
  {
   "cell_type": "markdown",
   "id": "2f35f512",
   "metadata": {},
   "source": [
    "Pour les clients à partir du mois de mai, le score d'ARI ne va plus du tout.\n",
    "\n",
    "Par ailleurs, nous observons un warning indiquant RuntimeWarning: overflow encountered in long_scalars.\n",
    "\n",
    "Une recherche sur internet nous indique qu'il faut redéfinir la fonction pour le calcul de l'ARI : il faut \"forcer\" à prendre les valeurs entières des vrais positifs (tp), faux positifs (fp), vrais négatis (tn) et faux négatifs (fn).\n",
    "\n",
    "Source : https://github.com/TomDLT/scikit-learn/commit/4c3349bdc579af448af31c6bf305def991351c12\n",
    "\n",
    "Remarque : dans la version 1.0.2 de scikit-learn, c'est bien la fonction ci-dessous qui est implémentée. La version de scikit-learn utilisée dans ce notebook est 0.24.2 car le passage à 1.0.2 générait des incompabilités avec d'autres packages."
   ]
  },
  {
   "cell_type": "code",
   "execution_count": 21,
   "id": "2666b95b",
   "metadata": {},
   "outputs": [
    {
     "data": {
      "application/javascript": [
       "\n",
       "            setTimeout(function() {\n",
       "                var nbb_cell_id = 21;\n",
       "                var nbb_unformatted_code = \"def adjusted_rand_score_corrected(labels_true, labels_pred):\\n\\n    \\\"\\\"\\\" Fonction pour corriger la fa\\u00e7on de calculer le score de l'ARI\\n        \\n    - Arguments :\\n        - labels_true : vrais labels des clients\\n        - labels_pred : labels pr\\u00e9dits des clients\\n    \\n    - Retourne :\\n        - le score de l'ARI en ayant pris les valeurs enti\\u00e8res pour\\n        tn, fp, fn, tp\\n    \\\"\\\"\\\"\\n\\n    (tn, fp), (fn, tp) = pair_confusion_matrix(labels_true, labels_pred)\\n\\n    # convert to Python integer types, to avoid overflow or underflow\\n    tn, fp, fn, tp = int(tn), int(fp), int(fn), int(tp)\\n\\n    # Special cases: empty data or full agreement\\n    if fn == 0 and fp == 0:\\n        return 1.0\\n\\n    return 2.0 * (tp * tn - fn * fp) / ((tp + fn) * (fn + tn) + (tp + fp) * (fp + tn))\";\n",
       "                var nbb_formatted_code = \"def adjusted_rand_score_corrected(labels_true, labels_pred):\\n\\n    \\\"\\\"\\\" Fonction pour corriger la fa\\u00e7on de calculer le score de l'ARI\\n        \\n    - Arguments :\\n        - labels_true : vrais labels des clients\\n        - labels_pred : labels pr\\u00e9dits des clients\\n    \\n    - Retourne :\\n        - le score de l'ARI en ayant pris les valeurs enti\\u00e8res pour\\n        tn, fp, fn, tp\\n    \\\"\\\"\\\"\\n\\n    (tn, fp), (fn, tp) = pair_confusion_matrix(labels_true, labels_pred)\\n\\n    # convert to Python integer types, to avoid overflow or underflow\\n    tn, fp, fn, tp = int(tn), int(fp), int(fn), int(tp)\\n\\n    # Special cases: empty data or full agreement\\n    if fn == 0 and fp == 0:\\n        return 1.0\\n\\n    return 2.0 * (tp * tn - fn * fp) / ((tp + fn) * (fn + tn) + (tp + fp) * (fp + tn))\";\n",
       "                var nbb_cells = Jupyter.notebook.get_cells();\n",
       "                for (var i = 0; i < nbb_cells.length; ++i) {\n",
       "                    if (nbb_cells[i].input_prompt_number == nbb_cell_id) {\n",
       "                        if (nbb_cells[i].get_text() == nbb_unformatted_code) {\n",
       "                             nbb_cells[i].set_text(nbb_formatted_code);\n",
       "                        }\n",
       "                        break;\n",
       "                    }\n",
       "                }\n",
       "            }, 500);\n",
       "            "
      ],
      "text/plain": [
       "<IPython.core.display.Javascript object>"
      ]
     },
     "metadata": {},
     "output_type": "display_data"
    }
   ],
   "source": [
    "def adjusted_rand_score_corrected(labels_true, labels_pred):\n",
    "\n",
    "    \"\"\" Fonction pour corriger la façon de calculer le score de l'ARI\n",
    "        \n",
    "    - Arguments :\n",
    "        - labels_true : vrais labels des clients\n",
    "        - labels_pred : labels prédits des clients\n",
    "    \n",
    "    - Retourne :\n",
    "        - le score de l'ARI en ayant pris les valeurs entières pour\n",
    "        tn, fp, fn, tp\n",
    "    \"\"\"\n",
    "\n",
    "    (tn, fp), (fn, tp) = pair_confusion_matrix(labels_true, labels_pred)\n",
    "\n",
    "    # convert to Python integer types, to avoid overflow or underflow\n",
    "    tn, fp, fn, tp = int(tn), int(fp), int(fn), int(tp)\n",
    "\n",
    "    # Special cases: empty data or full agreement\n",
    "    if fn == 0 and fp == 0:\n",
    "        return 1.0\n",
    "\n",
    "    return 2.0 * (tp * tn - fn * fp) / ((tp + fn) * (fn + tn) + (tp + fp) * (fp + tn))"
   ]
  },
  {
   "cell_type": "code",
   "execution_count": 22,
   "id": "bfa405b5",
   "metadata": {},
   "outputs": [
    {
     "data": {
      "application/javascript": [
       "\n",
       "            setTimeout(function() {\n",
       "                var nbb_cell_id = 22;\n",
       "                var nbb_unformatted_code = \"def results_ARI_corrected(time_range, kmeans_pred, scaler):\\n\\n    \\\"\\\"\\\" Fonction pour stocker dans un dataframe pour chaque p\\u00e9riode donn\\u00e9e\\n     le nombre de clients, le nombre total de commandes, \\n     le nombre total de produits command\\u00e9sle score de l'ARI, \\n     les scores de Silhouette\\n        \\n    - Arguments :\\n        - time_range : liste des p\\u00e9riodes\\n        - kmeans_pred : kmeans entrain\\u00e9 sur la p\\u00e9riode de base, qui fera\\n        ici les pr\\u00e9dictions\\n        - scaler : scaler utilis\\u00e9 pour le kmeans entrain\\u00e9 sur la p\\u00e9riode de base\\n    \\n    - Retourne :\\n        - un dataframe avec \\n            - le mois auquel on fait la pr\\u00e9diction \\n            (donn\\u00e9es s'arr\\u00eatent au dernier jour du mois pr\\u00e9c\\u00e9dent)\\n            - le nombre de clients\\n            - le nombre total de commandes\\n            - le nombre total de produits command\\u00e9s\\n            - le score de l'ARI (Adjusted Range Index)\\n            - le score de Silhouette du kmeans de pr\\u00e9diction\\n            - le score de Silhouette du kmeans \\\"true\\\"\\n    \\\"\\\"\\\"\\n\\n    # Dataframe pour r\\u00e9cup\\u00e9rer les r\\u00e9sultats\\n    results_maj_month = pd.DataFrame(\\n        columns=[\\n            \\\"mois_maj\\\",\\n            \\\"nombre_clients\\\",\\n            \\\"nombre_total_cmd\\\",\\n            \\\"nombre_total_prod_cmd\\\",\\n            \\\"ARI\\\",\\n            \\\"Silhouette_pred\\\",\\n            \\\"Silhouette_true\\\",\\n        ]\\n    )\\n\\n    for time in time_range:\\n\\n        # Cr\\u00e9ation du dataset augment\\u00e9 de nouveaux clients\\n        X_aug = crea_df(df_all, time)\\n\\n        # Nombre de clients\\n        nb_cust = X_aug.shape[0]\\n        \\n        # Nombre total de commandes\\n        nb_cmd_tot = X_aug[\\\"nb_cmd\\\"].sum()\\n\\n        # Nombre total de produits command\\u00e9s\\n        nb_prod_tot = X_aug[\\\"nb_prod\\\"].sum()\\n        \\n        # Normalisation des donn\\u00e9es mod\\u00e8le \\\"true\\\"\\n        robust_scal = RobustScaler().fit(\\n            X_aug[[\\\"montant_dep\\\", \\\"note_moy\\\", \\\"nb_jours_last_cmd\\\"]]\\n        )\\n        X_aug_scaled = robust_scal.transform(\\n            X_aug[[\\\"montant_dep\\\", \\\"note_moy\\\", \\\"nb_jours_last_cmd\\\"]]\\n        )\\n\\n        # Normalisation des donn\\u00e9es mod\\u00e8le \\\"predict\\\"\\n        # utilise le scaler entrain\\u00e9 lors de la p\\u00e9riode de base\\n        X_aug_scaled_1 = scaler.transform(\\n            X_aug[[\\\"montant_dep\\\", \\\"note_moy\\\", \\\"nb_jours_last_cmd\\\"]]\\n        )\\n\\n        # Mod\\u00e9lisation\\n        kmeans_true = KMeans(n_clusters=4, random_state=1).fit(X_aug_scaled)\\n\\n        # R\\u00e9cup\\u00e9ration des \\\"true\\\" labels des clients\\n        labels_true = kmeans_true.predict(X_aug_scaled)\\n\\n        # R\\u00e9cup\\u00e9ration des \\\"predicted\\\" labels des clients\\n        label_pred = kmeans_pred.predict(X_aug_scaled_1)\\n\\n        # On stocke les r\\u00e9sultats\\n        results = {\\n            \\\"mois_maj\\\": time,\\n            \\\"nombre_clients\\\": nb_cust,\\n            \\\"nombre_total_cmd\\\" : nb_cmd_tot,\\n            \\\"nombre_total_prod_cmd\\\" : nb_prod_tot,\\n            \\\"ARI\\\": adjusted_rand_score_corrected(labels_true, label_pred),\\n            \\\"Silhouette_pred\\\": silhouette_score(X_aug_scaled_1, label_pred),\\n            \\\"Silhouette_true\\\": silhouette_score(X_aug_scaled, labels_true),\\n        }\\n\\n        # On ajoute les r\\u00e9sultats au dataframe\\n        results_maj_month = results_maj_month.append(results, ignore_index=True)\\n\\n    return results_maj_month\";\n",
       "                var nbb_formatted_code = \"def results_ARI_corrected(time_range, kmeans_pred, scaler):\\n\\n    \\\"\\\"\\\" Fonction pour stocker dans un dataframe pour chaque p\\u00e9riode donn\\u00e9e\\n     le nombre de clients, le nombre total de commandes, \\n     le nombre total de produits command\\u00e9sle score de l'ARI, \\n     les scores de Silhouette\\n        \\n    - Arguments :\\n        - time_range : liste des p\\u00e9riodes\\n        - kmeans_pred : kmeans entrain\\u00e9 sur la p\\u00e9riode de base, qui fera\\n        ici les pr\\u00e9dictions\\n        - scaler : scaler utilis\\u00e9 pour le kmeans entrain\\u00e9 sur la p\\u00e9riode de base\\n    \\n    - Retourne :\\n        - un dataframe avec \\n            - le mois auquel on fait la pr\\u00e9diction \\n            (donn\\u00e9es s'arr\\u00eatent au dernier jour du mois pr\\u00e9c\\u00e9dent)\\n            - le nombre de clients\\n            - le nombre total de commandes\\n            - le nombre total de produits command\\u00e9s\\n            - le score de l'ARI (Adjusted Range Index)\\n            - le score de Silhouette du kmeans de pr\\u00e9diction\\n            - le score de Silhouette du kmeans \\\"true\\\"\\n    \\\"\\\"\\\"\\n\\n    # Dataframe pour r\\u00e9cup\\u00e9rer les r\\u00e9sultats\\n    results_maj_month = pd.DataFrame(\\n        columns=[\\n            \\\"mois_maj\\\",\\n            \\\"nombre_clients\\\",\\n            \\\"nombre_total_cmd\\\",\\n            \\\"nombre_total_prod_cmd\\\",\\n            \\\"ARI\\\",\\n            \\\"Silhouette_pred\\\",\\n            \\\"Silhouette_true\\\",\\n        ]\\n    )\\n\\n    for time in time_range:\\n\\n        # Cr\\u00e9ation du dataset augment\\u00e9 de nouveaux clients\\n        X_aug = crea_df(df_all, time)\\n\\n        # Nombre de clients\\n        nb_cust = X_aug.shape[0]\\n\\n        # Nombre total de commandes\\n        nb_cmd_tot = X_aug[\\\"nb_cmd\\\"].sum()\\n\\n        # Nombre total de produits command\\u00e9s\\n        nb_prod_tot = X_aug[\\\"nb_prod\\\"].sum()\\n\\n        # Normalisation des donn\\u00e9es mod\\u00e8le \\\"true\\\"\\n        robust_scal = RobustScaler().fit(\\n            X_aug[[\\\"montant_dep\\\", \\\"note_moy\\\", \\\"nb_jours_last_cmd\\\"]]\\n        )\\n        X_aug_scaled = robust_scal.transform(\\n            X_aug[[\\\"montant_dep\\\", \\\"note_moy\\\", \\\"nb_jours_last_cmd\\\"]]\\n        )\\n\\n        # Normalisation des donn\\u00e9es mod\\u00e8le \\\"predict\\\"\\n        # utilise le scaler entrain\\u00e9 lors de la p\\u00e9riode de base\\n        X_aug_scaled_1 = scaler.transform(\\n            X_aug[[\\\"montant_dep\\\", \\\"note_moy\\\", \\\"nb_jours_last_cmd\\\"]]\\n        )\\n\\n        # Mod\\u00e9lisation\\n        kmeans_true = KMeans(n_clusters=4, random_state=1).fit(X_aug_scaled)\\n\\n        # R\\u00e9cup\\u00e9ration des \\\"true\\\" labels des clients\\n        labels_true = kmeans_true.predict(X_aug_scaled)\\n\\n        # R\\u00e9cup\\u00e9ration des \\\"predicted\\\" labels des clients\\n        label_pred = kmeans_pred.predict(X_aug_scaled_1)\\n\\n        # On stocke les r\\u00e9sultats\\n        results = {\\n            \\\"mois_maj\\\": time,\\n            \\\"nombre_clients\\\": nb_cust,\\n            \\\"nombre_total_cmd\\\": nb_cmd_tot,\\n            \\\"nombre_total_prod_cmd\\\": nb_prod_tot,\\n            \\\"ARI\\\": adjusted_rand_score_corrected(labels_true, label_pred),\\n            \\\"Silhouette_pred\\\": silhouette_score(X_aug_scaled_1, label_pred),\\n            \\\"Silhouette_true\\\": silhouette_score(X_aug_scaled, labels_true),\\n        }\\n\\n        # On ajoute les r\\u00e9sultats au dataframe\\n        results_maj_month = results_maj_month.append(results, ignore_index=True)\\n\\n    return results_maj_month\";\n",
       "                var nbb_cells = Jupyter.notebook.get_cells();\n",
       "                for (var i = 0; i < nbb_cells.length; ++i) {\n",
       "                    if (nbb_cells[i].input_prompt_number == nbb_cell_id) {\n",
       "                        if (nbb_cells[i].get_text() == nbb_unformatted_code) {\n",
       "                             nbb_cells[i].set_text(nbb_formatted_code);\n",
       "                        }\n",
       "                        break;\n",
       "                    }\n",
       "                }\n",
       "            }, 500);\n",
       "            "
      ],
      "text/plain": [
       "<IPython.core.display.Javascript object>"
      ]
     },
     "metadata": {},
     "output_type": "display_data"
    }
   ],
   "source": [
    "def results_ARI_corrected(time_range, kmeans_pred, scaler):\n",
    "\n",
    "    \"\"\" Fonction pour stocker dans un dataframe pour chaque période donnée\n",
    "     le nombre de clients, le nombre total de commandes, \n",
    "     le nombre total de produits commandésle score de l'ARI, \n",
    "     les scores de Silhouette\n",
    "        \n",
    "    - Arguments :\n",
    "        - time_range : liste des périodes\n",
    "        - kmeans_pred : kmeans entrainé sur la période de base, qui fera\n",
    "        ici les prédictions\n",
    "        - scaler : scaler utilisé pour le kmeans entrainé sur la période de base\n",
    "    \n",
    "    - Retourne :\n",
    "        - un dataframe avec \n",
    "            - le mois auquel on fait la prédiction \n",
    "            (données s'arrêtent au dernier jour du mois précédent)\n",
    "            - le nombre de clients\n",
    "            - le nombre total de commandes\n",
    "            - le nombre total de produits commandés\n",
    "            - le score de l'ARI (Adjusted Range Index)\n",
    "            - le score de Silhouette du kmeans de prédiction\n",
    "            - le score de Silhouette du kmeans \"true\"\n",
    "    \"\"\"\n",
    "\n",
    "    # Dataframe pour récupérer les résultats\n",
    "    results_maj_month = pd.DataFrame(\n",
    "        columns=[\n",
    "            \"mois_maj\",\n",
    "            \"nombre_clients\",\n",
    "            \"nombre_total_cmd\",\n",
    "            \"nombre_total_prod_cmd\",\n",
    "            \"ARI\",\n",
    "            \"Silhouette_pred\",\n",
    "            \"Silhouette_true\",\n",
    "        ]\n",
    "    )\n",
    "\n",
    "    for time in time_range:\n",
    "\n",
    "        # Création du dataset augmenté de nouveaux clients\n",
    "        X_aug = crea_df(df_all, time)\n",
    "\n",
    "        # Nombre de clients\n",
    "        nb_cust = X_aug.shape[0]\n",
    "\n",
    "        # Nombre total de commandes\n",
    "        nb_cmd_tot = X_aug[\"nb_cmd\"].sum()\n",
    "\n",
    "        # Nombre total de produits commandés\n",
    "        nb_prod_tot = X_aug[\"nb_prod\"].sum()\n",
    "\n",
    "        # Normalisation des données modèle \"true\"\n",
    "        robust_scal = RobustScaler().fit(\n",
    "            X_aug[[\"montant_dep\", \"note_moy\", \"nb_jours_last_cmd\"]]\n",
    "        )\n",
    "        X_aug_scaled = robust_scal.transform(\n",
    "            X_aug[[\"montant_dep\", \"note_moy\", \"nb_jours_last_cmd\"]]\n",
    "        )\n",
    "\n",
    "        # Normalisation des données modèle \"predict\"\n",
    "        # utilise le scaler entrainé lors de la période de base\n",
    "        X_aug_scaled_1 = scaler.transform(\n",
    "            X_aug[[\"montant_dep\", \"note_moy\", \"nb_jours_last_cmd\"]]\n",
    "        )\n",
    "\n",
    "        # Modélisation\n",
    "        kmeans_true = KMeans(n_clusters=4, random_state=1).fit(X_aug_scaled)\n",
    "\n",
    "        # Récupération des \"true\" labels des clients\n",
    "        labels_true = kmeans_true.predict(X_aug_scaled)\n",
    "\n",
    "        # Récupération des \"predicted\" labels des clients\n",
    "        label_pred = kmeans_pred.predict(X_aug_scaled_1)\n",
    "\n",
    "        # On stocke les résultats\n",
    "        results = {\n",
    "            \"mois_maj\": time,\n",
    "            \"nombre_clients\": nb_cust,\n",
    "            \"nombre_total_cmd\": nb_cmd_tot,\n",
    "            \"nombre_total_prod_cmd\": nb_prod_tot,\n",
    "            \"ARI\": adjusted_rand_score_corrected(labels_true, label_pred),\n",
    "            \"Silhouette_pred\": silhouette_score(X_aug_scaled_1, label_pred),\n",
    "            \"Silhouette_true\": silhouette_score(X_aug_scaled, labels_true),\n",
    "        }\n",
    "\n",
    "        # On ajoute les résultats au dataframe\n",
    "        results_maj_month = results_maj_month.append(results, ignore_index=True)\n",
    "\n",
    "    return results_maj_month"
   ]
  },
  {
   "cell_type": "code",
   "execution_count": 23,
   "id": "af3c698b",
   "metadata": {},
   "outputs": [
    {
     "data": {
      "text/html": [
       "<div>\n",
       "<style scoped>\n",
       "    .dataframe tbody tr th:only-of-type {\n",
       "        vertical-align: middle;\n",
       "    }\n",
       "\n",
       "    .dataframe tbody tr th {\n",
       "        vertical-align: top;\n",
       "    }\n",
       "\n",
       "    .dataframe thead th {\n",
       "        text-align: right;\n",
       "    }\n",
       "</style>\n",
       "<table border=\"1\" class=\"dataframe\">\n",
       "  <thead>\n",
       "    <tr style=\"text-align: right;\">\n",
       "      <th></th>\n",
       "      <th>mois_maj</th>\n",
       "      <th>nombre_clients</th>\n",
       "      <th>nombre_total_cmd</th>\n",
       "      <th>nombre_total_prod_cmd</th>\n",
       "      <th>ARI</th>\n",
       "      <th>Silhouette_pred</th>\n",
       "      <th>Silhouette_true</th>\n",
       "    </tr>\n",
       "  </thead>\n",
       "  <tbody>\n",
       "    <tr>\n",
       "      <th>0</th>\n",
       "      <td>2018-01-01</td>\n",
       "      <td>43167</td>\n",
       "      <td>44511</td>\n",
       "      <td>50747</td>\n",
       "      <td>1.000000</td>\n",
       "      <td>0.526441</td>\n",
       "      <td>0.526441</td>\n",
       "    </tr>\n",
       "    <tr>\n",
       "      <th>1</th>\n",
       "      <td>2018-02-01</td>\n",
       "      <td>50090</td>\n",
       "      <td>51665</td>\n",
       "      <td>58877</td>\n",
       "      <td>0.997779</td>\n",
       "      <td>0.518243</td>\n",
       "      <td>0.519100</td>\n",
       "    </tr>\n",
       "    <tr>\n",
       "      <th>2</th>\n",
       "      <td>2018-03-01</td>\n",
       "      <td>56465</td>\n",
       "      <td>58305</td>\n",
       "      <td>66477</td>\n",
       "      <td>0.996059</td>\n",
       "      <td>0.512727</td>\n",
       "      <td>0.518644</td>\n",
       "    </tr>\n",
       "    <tr>\n",
       "      <th>3</th>\n",
       "      <td>2018-04-01</td>\n",
       "      <td>63352</td>\n",
       "      <td>65429</td>\n",
       "      <td>74621</td>\n",
       "      <td>0.997568</td>\n",
       "      <td>0.506522</td>\n",
       "      <td>0.520042</td>\n",
       "    </tr>\n",
       "    <tr>\n",
       "      <th>4</th>\n",
       "      <td>2018-05-01</td>\n",
       "      <td>70012</td>\n",
       "      <td>72307</td>\n",
       "      <td>82529</td>\n",
       "      <td>0.996449</td>\n",
       "      <td>0.499403</td>\n",
       "      <td>0.519984</td>\n",
       "    </tr>\n",
       "    <tr>\n",
       "      <th>5</th>\n",
       "      <td>2018-06-01</td>\n",
       "      <td>76583</td>\n",
       "      <td>79126</td>\n",
       "      <td>90406</td>\n",
       "      <td>0.985744</td>\n",
       "      <td>0.492663</td>\n",
       "      <td>0.519589</td>\n",
       "    </tr>\n",
       "    <tr>\n",
       "      <th>6</th>\n",
       "      <td>2018-07-01</td>\n",
       "      <td>82492</td>\n",
       "      <td>85260</td>\n",
       "      <td>97446</td>\n",
       "      <td>0.990360</td>\n",
       "      <td>0.486035</td>\n",
       "      <td>0.519148</td>\n",
       "    </tr>\n",
       "    <tr>\n",
       "      <th>7</th>\n",
       "      <td>2018-08-01</td>\n",
       "      <td>88506</td>\n",
       "      <td>91488</td>\n",
       "      <td>104485</td>\n",
       "      <td>0.988658</td>\n",
       "      <td>0.479122</td>\n",
       "      <td>0.519242</td>\n",
       "    </tr>\n",
       "    <tr>\n",
       "      <th>8</th>\n",
       "      <td>2018-09-01</td>\n",
       "      <td>94720</td>\n",
       "      <td>97915</td>\n",
       "      <td>111704</td>\n",
       "      <td>0.989902</td>\n",
       "      <td>0.472319</td>\n",
       "      <td>0.518686</td>\n",
       "    </tr>\n",
       "    <tr>\n",
       "      <th>9</th>\n",
       "      <td>2018-10-01</td>\n",
       "      <td>94720</td>\n",
       "      <td>97916</td>\n",
       "      <td>111705</td>\n",
       "      <td>0.989709</td>\n",
       "      <td>0.472318</td>\n",
       "      <td>0.518691</td>\n",
       "    </tr>\n",
       "  </tbody>\n",
       "</table>\n",
       "</div>"
      ],
      "text/plain": [
       "    mois_maj nombre_clients nombre_total_cmd nombre_total_prod_cmd       ARI  \\\n",
       "0 2018-01-01          43167            44511                 50747  1.000000   \n",
       "1 2018-02-01          50090            51665                 58877  0.997779   \n",
       "2 2018-03-01          56465            58305                 66477  0.996059   \n",
       "3 2018-04-01          63352            65429                 74621  0.997568   \n",
       "4 2018-05-01          70012            72307                 82529  0.996449   \n",
       "5 2018-06-01          76583            79126                 90406  0.985744   \n",
       "6 2018-07-01          82492            85260                 97446  0.990360   \n",
       "7 2018-08-01          88506            91488                104485  0.988658   \n",
       "8 2018-09-01          94720            97915                111704  0.989902   \n",
       "9 2018-10-01          94720            97916                111705  0.989709   \n",
       "\n",
       "   Silhouette_pred  Silhouette_true  \n",
       "0         0.526441         0.526441  \n",
       "1         0.518243         0.519100  \n",
       "2         0.512727         0.518644  \n",
       "3         0.506522         0.520042  \n",
       "4         0.499403         0.519984  \n",
       "5         0.492663         0.519589  \n",
       "6         0.486035         0.519148  \n",
       "7         0.479122         0.519242  \n",
       "8         0.472319         0.518686  \n",
       "9         0.472318         0.518691  "
      ]
     },
     "execution_count": 23,
     "metadata": {},
     "output_type": "execute_result"
    },
    {
     "data": {
      "application/javascript": [
       "\n",
       "            setTimeout(function() {\n",
       "                var nbb_cell_id = 23;\n",
       "                var nbb_unformatted_code = \"results_1_corrected = results_ARI_corrected(time_range1, kmeans_1, robust_scal_1)\\nresults_1_corrected\";\n",
       "                var nbb_formatted_code = \"results_1_corrected = results_ARI_corrected(time_range1, kmeans_1, robust_scal_1)\\nresults_1_corrected\";\n",
       "                var nbb_cells = Jupyter.notebook.get_cells();\n",
       "                for (var i = 0; i < nbb_cells.length; ++i) {\n",
       "                    if (nbb_cells[i].input_prompt_number == nbb_cell_id) {\n",
       "                        if (nbb_cells[i].get_text() == nbb_unformatted_code) {\n",
       "                             nbb_cells[i].set_text(nbb_formatted_code);\n",
       "                        }\n",
       "                        break;\n",
       "                    }\n",
       "                }\n",
       "            }, 500);\n",
       "            "
      ],
      "text/plain": [
       "<IPython.core.display.Javascript object>"
      ]
     },
     "metadata": {},
     "output_type": "display_data"
    }
   ],
   "source": [
    "results_1_corrected = results_ARI_corrected(time_range1, kmeans_1, robust_scal_1)\n",
    "results_1_corrected"
   ]
  },
  {
   "cell_type": "markdown",
   "id": "bd69ee0c",
   "metadata": {},
   "source": [
    "Les premiers scores sont bien identiques à ceux trouvés précédemment.\n",
    "\n",
    "On va visualiser les scores."
   ]
  },
  {
   "cell_type": "code",
   "execution_count": 26,
   "id": "c424245d",
   "metadata": {},
   "outputs": [
    {
     "data": {
      "application/javascript": [
       "\n",
       "            setTimeout(function() {\n",
       "                var nbb_cell_id = 26;\n",
       "                var nbb_unformatted_code = \"def plot_ARI_cust(df_results):\\n\\n    \\\"\\\"\\\" Fonction pour visualiser l'ARI au cours d'une p\\u00e9riode\\n    ainsi que l'\\u00e9volution du nombre de clients\\n        \\n    - Arguments :\\n        - df_results : dataframe contenant l'ARI et le nombre de clients\\n    \\n    - Affiche :\\n        - 1 graphe avec \\u00e9volution de l'ARI et du nombre de clients\\n        en fonction du temps\\n    \\\"\\\"\\\"\\n\\n    # Visualisation de adjusted_rand_score\\n    fig, ax1 = plt.subplots(figsize=(12, 6))\\n\\n    # Valeurs de adjusted_rand_score\\n    ax1.plot(\\n        df_results[\\\"mois_maj\\\"], df_results[\\\"ARI\\\"], color=\\\"black\\\", label=\\\"ARI\\\",\\n    )\\n\\n    ax1.set_xlabel(\\\"mois_maj\\\", size=14)\\n    ax1.set_ylabel(\\\"adjusted_rand_score\\\", size=14)\\n    plt.legend(loc=\\\"center left\\\")\\n    ax1.tick_params(axis=\\\"y\\\", labelcolor=\\\"black\\\")\\n\\n    # Nombre de clients\\n    ax2 = ax1.twinx()\\n\\n    ax2.set_ylabel(\\\"nombre_clients\\\", color=\\\"blue\\\", size=14)\\n    ax2.plot(\\n        df_results[\\\"mois_maj\\\"], df_results[\\\"nombre_clients\\\"], color=\\\"blue\\\", ls=\\\"--\\\",\\n    )\\n    ax2.tick_params(axis=\\\"y\\\", labelcolor=\\\"blue\\\")\\n\\n    plt.show()\";\n",
       "                var nbb_formatted_code = \"def plot_ARI_cust(df_results):\\n\\n    \\\"\\\"\\\" Fonction pour visualiser l'ARI au cours d'une p\\u00e9riode\\n    ainsi que l'\\u00e9volution du nombre de clients\\n        \\n    - Arguments :\\n        - df_results : dataframe contenant l'ARI et le nombre de clients\\n    \\n    - Affiche :\\n        - 1 graphe avec \\u00e9volution de l'ARI et du nombre de clients\\n        en fonction du temps\\n    \\\"\\\"\\\"\\n\\n    # Visualisation de adjusted_rand_score\\n    fig, ax1 = plt.subplots(figsize=(12, 6))\\n\\n    # Valeurs de adjusted_rand_score\\n    ax1.plot(\\n        df_results[\\\"mois_maj\\\"], df_results[\\\"ARI\\\"], color=\\\"black\\\", label=\\\"ARI\\\",\\n    )\\n\\n    ax1.set_xlabel(\\\"mois_maj\\\", size=14)\\n    ax1.set_ylabel(\\\"adjusted_rand_score\\\", size=14)\\n    plt.legend(loc=\\\"center left\\\")\\n    ax1.tick_params(axis=\\\"y\\\", labelcolor=\\\"black\\\")\\n\\n    # Nombre de clients\\n    ax2 = ax1.twinx()\\n\\n    ax2.set_ylabel(\\\"nombre_clients\\\", color=\\\"blue\\\", size=14)\\n    ax2.plot(\\n        df_results[\\\"mois_maj\\\"], df_results[\\\"nombre_clients\\\"], color=\\\"blue\\\", ls=\\\"--\\\",\\n    )\\n    ax2.tick_params(axis=\\\"y\\\", labelcolor=\\\"blue\\\")\\n\\n    plt.show()\";\n",
       "                var nbb_cells = Jupyter.notebook.get_cells();\n",
       "                for (var i = 0; i < nbb_cells.length; ++i) {\n",
       "                    if (nbb_cells[i].input_prompt_number == nbb_cell_id) {\n",
       "                        if (nbb_cells[i].get_text() == nbb_unformatted_code) {\n",
       "                             nbb_cells[i].set_text(nbb_formatted_code);\n",
       "                        }\n",
       "                        break;\n",
       "                    }\n",
       "                }\n",
       "            }, 500);\n",
       "            "
      ],
      "text/plain": [
       "<IPython.core.display.Javascript object>"
      ]
     },
     "metadata": {},
     "output_type": "display_data"
    }
   ],
   "source": [
    "def plot_ARI_cust(df_results):\n",
    "\n",
    "    \"\"\" Fonction pour visualiser l'ARI au cours d'une période\n",
    "    ainsi que l'évolution du nombre de clients\n",
    "        \n",
    "    - Arguments :\n",
    "        - df_results : dataframe contenant l'ARI et le nombre de clients\n",
    "    \n",
    "    - Affiche :\n",
    "        - 1 graphe avec évolution de l'ARI et du nombre de clients\n",
    "        en fonction du temps\n",
    "    \"\"\"\n",
    "\n",
    "    # Visualisation de adjusted_rand_score\n",
    "    fig, ax1 = plt.subplots(figsize=(12, 6))\n",
    "\n",
    "    # Valeurs de adjusted_rand_score\n",
    "    ax1.plot(\n",
    "        df_results[\"mois_maj\"], df_results[\"ARI\"], color=\"black\", label=\"ARI\",\n",
    "    )\n",
    "\n",
    "    ax1.set_xlabel(\"mois_maj\", size=14)\n",
    "    ax1.set_ylabel(\"adjusted_rand_score\", size=14)\n",
    "    plt.legend(loc=\"center left\")\n",
    "    ax1.tick_params(axis=\"y\", labelcolor=\"black\")\n",
    "\n",
    "    # Nombre de clients\n",
    "    ax2 = ax1.twinx()\n",
    "\n",
    "    ax2.set_ylabel(\"nombre_clients\", color=\"blue\", size=14)\n",
    "    ax2.plot(\n",
    "        df_results[\"mois_maj\"], df_results[\"nombre_clients\"], color=\"blue\", ls=\"--\",\n",
    "    )\n",
    "    ax2.tick_params(axis=\"y\", labelcolor=\"blue\")\n",
    "\n",
    "    plt.show()"
   ]
  },
  {
   "cell_type": "code",
   "execution_count": 27,
   "id": "829815ad",
   "metadata": {},
   "outputs": [
    {
     "data": {
      "image/png": "[encoded data removed]",
      "text/plain": [
       "<Figure size 864x432 with 2 Axes>"
      ]
     },
     "metadata": {},
     "output_type": "display_data"
    },
    {
     "data": {
      "application/javascript": [
       "\n",
       "            setTimeout(function() {\n",
       "                var nbb_cell_id = 27;\n",
       "                var nbb_unformatted_code = \"plot_ARI_cust(results_1_corrected)\";\n",
       "                var nbb_formatted_code = \"plot_ARI_cust(results_1_corrected)\";\n",
       "                var nbb_cells = Jupyter.notebook.get_cells();\n",
       "                for (var i = 0; i < nbb_cells.length; ++i) {\n",
       "                    if (nbb_cells[i].input_prompt_number == nbb_cell_id) {\n",
       "                        if (nbb_cells[i].get_text() == nbb_unformatted_code) {\n",
       "                             nbb_cells[i].set_text(nbb_formatted_code);\n",
       "                        }\n",
       "                        break;\n",
       "                    }\n",
       "                }\n",
       "            }, 500);\n",
       "            "
      ],
      "text/plain": [
       "<IPython.core.display.Javascript object>"
      ]
     },
     "metadata": {},
     "output_type": "display_data"
    }
   ],
   "source": [
    "plot_ARI_cust(results_1_corrected)"
   ]
  },
  {
   "cell_type": "markdown",
   "id": "29c67a9b",
   "metadata": {},
   "source": [
    "On observe une chute du score au moins de juin 2018, soit au bout de 5 mois (les données sont prises jusqu'au 31 mai 2018 inclus).\n",
    "\n",
    "Les valeurs de score sont très satisfaisantes (> 0.98)."
   ]
  },
  {
   "cell_type": "code",
   "execution_count": 28,
   "id": "2e1bcf54",
   "metadata": {},
   "outputs": [
    {
     "data": {
      "application/javascript": [
       "\n",
       "            setTimeout(function() {\n",
       "                var nbb_cell_id = 28;\n",
       "                var nbb_unformatted_code = \"def plot_silhouette(df_results):\\n\\n    \\\"\\\"\\\" Fonction pour visualiser les scores de silhouettes \\n    au cours d'une p\\u00e9riode\\n    \\n    - Arguments :\\n        - df_results : dataframe contenant les scores de silhouette\\n    \\n    - Affiche :\\n        - 1 graphe avec \\u00e9volution des scores de silhouette avec \\n        le mod\\u00e8le de base et avec le mod\\u00e8le \\\"true\\\" en fonction du temps\\n    \\\"\\\"\\\"\\n\\n    # Visualisation de adjusted_rand_score\\n    plt.figure(figsize=(12, 8))\\n\\n    # Valeurs de silhouette pr\\u00e9dites\\n    plt.scatter(\\n        df_results[\\\"mois_maj\\\"], df_results[\\\"Silhouette_pred\\\"], label=\\\"Silhouette_pred\\\",\\n    )\\n    plt.xlabel(\\\"mois_maj\\\", size=14)\\n    plt.ylabel(\\\"Silhouette_score\\\", size=14)\\n    plt.legend(loc=\\\"center left\\\")\\n\\n    # Valeurs de silhouette \\\"true\\\"\\n    plt.scatter(\\n        df_results[\\\"mois_maj\\\"], df_results[\\\"Silhouette_true\\\"], label=\\\"Silhouette_true\\\",\\n    )\\n    # ax.set_xlabel(\\\"mois_maj\\\", size=14)\\n    # ax.set_ylabel(\\\"Silhouette_score\\\", size=14)\\n    plt.legend(loc=\\\"center left\\\")\\n    \\n    plt.show()\";\n",
       "                var nbb_formatted_code = \"def plot_silhouette(df_results):\\n\\n    \\\"\\\"\\\" Fonction pour visualiser les scores de silhouettes \\n    au cours d'une p\\u00e9riode\\n    \\n    - Arguments :\\n        - df_results : dataframe contenant les scores de silhouette\\n    \\n    - Affiche :\\n        - 1 graphe avec \\u00e9volution des scores de silhouette avec \\n        le mod\\u00e8le de base et avec le mod\\u00e8le \\\"true\\\" en fonction du temps\\n    \\\"\\\"\\\"\\n\\n    # Visualisation de adjusted_rand_score\\n    plt.figure(figsize=(12, 8))\\n\\n    # Valeurs de silhouette pr\\u00e9dites\\n    plt.scatter(\\n        df_results[\\\"mois_maj\\\"], df_results[\\\"Silhouette_pred\\\"], label=\\\"Silhouette_pred\\\",\\n    )\\n    plt.xlabel(\\\"mois_maj\\\", size=14)\\n    plt.ylabel(\\\"Silhouette_score\\\", size=14)\\n    plt.legend(loc=\\\"center left\\\")\\n\\n    # Valeurs de silhouette \\\"true\\\"\\n    plt.scatter(\\n        df_results[\\\"mois_maj\\\"], df_results[\\\"Silhouette_true\\\"], label=\\\"Silhouette_true\\\",\\n    )\\n    # ax.set_xlabel(\\\"mois_maj\\\", size=14)\\n    # ax.set_ylabel(\\\"Silhouette_score\\\", size=14)\\n    plt.legend(loc=\\\"center left\\\")\\n\\n    plt.show()\";\n",
       "                var nbb_cells = Jupyter.notebook.get_cells();\n",
       "                for (var i = 0; i < nbb_cells.length; ++i) {\n",
       "                    if (nbb_cells[i].input_prompt_number == nbb_cell_id) {\n",
       "                        if (nbb_cells[i].get_text() == nbb_unformatted_code) {\n",
       "                             nbb_cells[i].set_text(nbb_formatted_code);\n",
       "                        }\n",
       "                        break;\n",
       "                    }\n",
       "                }\n",
       "            }, 500);\n",
       "            "
      ],
      "text/plain": [
       "<IPython.core.display.Javascript object>"
      ]
     },
     "metadata": {},
     "output_type": "display_data"
    }
   ],
   "source": [
    "def plot_silhouette(df_results):\n",
    "\n",
    "    \"\"\" Fonction pour visualiser les scores de silhouettes \n",
    "    au cours d'une période\n",
    "    \n",
    "    - Arguments :\n",
    "        - df_results : dataframe contenant les scores de silhouette\n",
    "    \n",
    "    - Affiche :\n",
    "        - 1 graphe avec évolution des scores de silhouette avec \n",
    "        le modèle de base et avec le modèle \"true\" en fonction du temps\n",
    "    \"\"\"\n",
    "\n",
    "    # Visualisation de adjusted_rand_score\n",
    "    plt.figure(figsize=(12, 8))\n",
    "\n",
    "    # Valeurs de silhouette prédites\n",
    "    plt.scatter(\n",
    "        df_results[\"mois_maj\"], df_results[\"Silhouette_pred\"], label=\"Silhouette_pred\",\n",
    "    )\n",
    "    plt.xlabel(\"mois_maj\", size=14)\n",
    "    plt.ylabel(\"Silhouette_score\", size=14)\n",
    "    plt.legend(loc=\"center left\")\n",
    "\n",
    "    # Valeurs de silhouette \"true\"\n",
    "    plt.scatter(\n",
    "        df_results[\"mois_maj\"], df_results[\"Silhouette_true\"], label=\"Silhouette_true\",\n",
    "    )\n",
    "    # ax.set_xlabel(\"mois_maj\", size=14)\n",
    "    # ax.set_ylabel(\"Silhouette_score\", size=14)\n",
    "    plt.legend(loc=\"center left\")\n",
    "\n",
    "    plt.show()"
   ]
  },
  {
   "cell_type": "code",
   "execution_count": 29,
   "id": "b0b1ae3e",
   "metadata": {},
   "outputs": [
    {
     "data": {
      "image/png": "[encoded data removed]",
      "text/plain": [
       "<Figure size 864x576 with 1 Axes>"
      ]
     },
     "metadata": {},
     "output_type": "display_data"
    },
    {
     "data": {
      "application/javascript": [
       "\n",
       "            setTimeout(function() {\n",
       "                var nbb_cell_id = 29;\n",
       "                var nbb_unformatted_code = \"plot_silhouette(results_1_corrected)\";\n",
       "                var nbb_formatted_code = \"plot_silhouette(results_1_corrected)\";\n",
       "                var nbb_cells = Jupyter.notebook.get_cells();\n",
       "                for (var i = 0; i < nbb_cells.length; ++i) {\n",
       "                    if (nbb_cells[i].input_prompt_number == nbb_cell_id) {\n",
       "                        if (nbb_cells[i].get_text() == nbb_unformatted_code) {\n",
       "                             nbb_cells[i].set_text(nbb_formatted_code);\n",
       "                        }\n",
       "                        break;\n",
       "                    }\n",
       "                }\n",
       "            }, 500);\n",
       "            "
      ],
      "text/plain": [
       "<IPython.core.display.Javascript object>"
      ]
     },
     "metadata": {},
     "output_type": "display_data"
    }
   ],
   "source": [
    "plot_silhouette(results_1_corrected)"
   ]
  },
  {
   "cell_type": "markdown",
   "id": "14b35e5b",
   "metadata": {},
   "source": [
    "On a une diminution régulière du score de silhouette pour le modèle de prédiction."
   ]
  },
  {
   "cell_type": "code",
   "execution_count": 32,
   "id": "ab6c70e5",
   "metadata": {},
   "outputs": [
    {
     "data": {
      "application/javascript": [
       "\n",
       "            setTimeout(function() {\n",
       "                var nbb_cell_id = 32;\n",
       "                var nbb_unformatted_code = \"def plot_ARI_cmd(df_results):\\n\\n    \\\"\\\"\\\" Fonction pour visualiser l'ARI au cours d'une p\\u00e9riode\\n    ainsi que l'\\u00e9volution du nombre total de commandes\\n        \\n    - Arguments :\\n        - df_results : dataframe contenant l'ARI et le nombre total \\n        de commandes\\n    \\n    - Affiche :\\n        - 1 graphe avec \\u00e9volution de l'ARI et du nombre total de commandes\\n        en fonction du temps\\n    \\\"\\\"\\\"\\n\\n    # Visualisation de adjusted_rand_score\\n    fig, ax1 = plt.subplots(figsize=(12, 6))\\n\\n    # Valeurs de adjusted_rand_score\\n    ax1.plot(\\n        df_results[\\\"mois_maj\\\"], df_results[\\\"ARI\\\"], color=\\\"black\\\", label=\\\"ARI\\\",\\n    )\\n\\n    ax1.set_xlabel(\\\"mois_maj\\\", size=14)\\n    ax1.set_ylabel(\\\"adjusted_rand_score\\\", size=14)\\n    plt.legend(loc=\\\"center left\\\")\\n    ax1.tick_params(axis=\\\"y\\\", labelcolor=\\\"black\\\")\\n\\n    # Nombre de clients\\n    ax2 = ax1.twinx()\\n\\n    ax2.set_ylabel(\\\"nombre_total_cmd\\\", color=\\\"red\\\", size=14)\\n    ax2.plot(\\n        df_results[\\\"mois_maj\\\"], df_results[\\\"nombre_total_cmd\\\"], color=\\\"red\\\", ls=\\\"--\\\",\\n    )\\n    ax2.tick_params(axis=\\\"y\\\", labelcolor=\\\"red\\\")\\n\\n    plt.show()\";\n",
       "                var nbb_formatted_code = \"def plot_ARI_cmd(df_results):\\n\\n    \\\"\\\"\\\" Fonction pour visualiser l'ARI au cours d'une p\\u00e9riode\\n    ainsi que l'\\u00e9volution du nombre total de commandes\\n        \\n    - Arguments :\\n        - df_results : dataframe contenant l'ARI et le nombre total \\n        de commandes\\n    \\n    - Affiche :\\n        - 1 graphe avec \\u00e9volution de l'ARI et du nombre total de commandes\\n        en fonction du temps\\n    \\\"\\\"\\\"\\n\\n    # Visualisation de adjusted_rand_score\\n    fig, ax1 = plt.subplots(figsize=(12, 6))\\n\\n    # Valeurs de adjusted_rand_score\\n    ax1.plot(\\n        df_results[\\\"mois_maj\\\"], df_results[\\\"ARI\\\"], color=\\\"black\\\", label=\\\"ARI\\\",\\n    )\\n\\n    ax1.set_xlabel(\\\"mois_maj\\\", size=14)\\n    ax1.set_ylabel(\\\"adjusted_rand_score\\\", size=14)\\n    plt.legend(loc=\\\"center left\\\")\\n    ax1.tick_params(axis=\\\"y\\\", labelcolor=\\\"black\\\")\\n\\n    # Nombre de clients\\n    ax2 = ax1.twinx()\\n\\n    ax2.set_ylabel(\\\"nombre_total_cmd\\\", color=\\\"red\\\", size=14)\\n    ax2.plot(\\n        df_results[\\\"mois_maj\\\"], df_results[\\\"nombre_total_cmd\\\"], color=\\\"red\\\", ls=\\\"--\\\",\\n    )\\n    ax2.tick_params(axis=\\\"y\\\", labelcolor=\\\"red\\\")\\n\\n    plt.show()\";\n",
       "                var nbb_cells = Jupyter.notebook.get_cells();\n",
       "                for (var i = 0; i < nbb_cells.length; ++i) {\n",
       "                    if (nbb_cells[i].input_prompt_number == nbb_cell_id) {\n",
       "                        if (nbb_cells[i].get_text() == nbb_unformatted_code) {\n",
       "                             nbb_cells[i].set_text(nbb_formatted_code);\n",
       "                        }\n",
       "                        break;\n",
       "                    }\n",
       "                }\n",
       "            }, 500);\n",
       "            "
      ],
      "text/plain": [
       "<IPython.core.display.Javascript object>"
      ]
     },
     "metadata": {},
     "output_type": "display_data"
    }
   ],
   "source": [
    "def plot_ARI_cmd(df_results):\n",
    "\n",
    "    \"\"\" Fonction pour visualiser l'ARI au cours d'une période\n",
    "    ainsi que l'évolution du nombre total de commandes\n",
    "        \n",
    "    - Arguments :\n",
    "        - df_results : dataframe contenant l'ARI et le nombre total \n",
    "        de commandes\n",
    "    \n",
    "    - Affiche :\n",
    "        - 1 graphe avec évolution de l'ARI et du nombre total de commandes\n",
    "        en fonction du temps\n",
    "    \"\"\"\n",
    "\n",
    "    # Visualisation de adjusted_rand_score\n",
    "    fig, ax1 = plt.subplots(figsize=(12, 6))\n",
    "\n",
    "    # Valeurs de adjusted_rand_score\n",
    "    ax1.plot(\n",
    "        df_results[\"mois_maj\"], df_results[\"ARI\"], color=\"black\", label=\"ARI\",\n",
    "    )\n",
    "\n",
    "    ax1.set_xlabel(\"mois_maj\", size=14)\n",
    "    ax1.set_ylabel(\"adjusted_rand_score\", size=14)\n",
    "    plt.legend(loc=\"center left\")\n",
    "    ax1.tick_params(axis=\"y\", labelcolor=\"black\")\n",
    "\n",
    "    # Nombre de clients\n",
    "    ax2 = ax1.twinx()\n",
    "\n",
    "    ax2.set_ylabel(\"nombre_total_cmd\", color=\"red\", size=14)\n",
    "    ax2.plot(\n",
    "        df_results[\"mois_maj\"], df_results[\"nombre_total_cmd\"], color=\"red\", ls=\"--\",\n",
    "    )\n",
    "    ax2.tick_params(axis=\"y\", labelcolor=\"red\")\n",
    "\n",
    "    plt.show()"
   ]
  },
  {
   "cell_type": "code",
   "execution_count": 33,
   "id": "37febc00",
   "metadata": {},
   "outputs": [
    {
     "data": {
      "image/png": "[encoded data removed]",
      "text/plain": [
       "<Figure size 864x432 with 2 Axes>"
      ]
     },
     "metadata": {},
     "output_type": "display_data"
    },
    {
     "data": {
      "application/javascript": [
       "\n",
       "            setTimeout(function() {\n",
       "                var nbb_cell_id = 33;\n",
       "                var nbb_unformatted_code = \"plot_ARI_cmd(results_1_corrected)\";\n",
       "                var nbb_formatted_code = \"plot_ARI_cmd(results_1_corrected)\";\n",
       "                var nbb_cells = Jupyter.notebook.get_cells();\n",
       "                for (var i = 0; i < nbb_cells.length; ++i) {\n",
       "                    if (nbb_cells[i].input_prompt_number == nbb_cell_id) {\n",
       "                        if (nbb_cells[i].get_text() == nbb_unformatted_code) {\n",
       "                             nbb_cells[i].set_text(nbb_formatted_code);\n",
       "                        }\n",
       "                        break;\n",
       "                    }\n",
       "                }\n",
       "            }, 500);\n",
       "            "
      ],
      "text/plain": [
       "<IPython.core.display.Javascript object>"
      ]
     },
     "metadata": {},
     "output_type": "display_data"
    }
   ],
   "source": [
    "plot_ARI_cmd(results_1_corrected)"
   ]
  },
  {
   "cell_type": "markdown",
   "id": "1c8d274a",
   "metadata": {},
   "source": [
    "On a une augmentation linéaire du nombre total de commandes."
   ]
  },
  {
   "cell_type": "markdown",
   "id": "234e3534",
   "metadata": {},
   "source": [
    "### 2.2. Dataset période de base 2 : sept 2016 - aout 2017\n",
    "\n",
    "On va prendre comme deuxième dataset un dataset qui couvre septembre 2016 à août 2017 inclus."
   ]
  },
  {
   "cell_type": "code",
   "execution_count": 34,
   "id": "874caa7b",
   "metadata": {},
   "outputs": [
    {
     "data": {
      "text/plain": [
       "(22182, 5)"
      ]
     },
     "execution_count": 34,
     "metadata": {},
     "output_type": "execute_result"
    },
    {
     "data": {
      "application/javascript": [
       "\n",
       "            setTimeout(function() {\n",
       "                var nbb_cell_id = 34;\n",
       "                var nbb_unformatted_code = \"# Date limite\\ndate_limit_2 = np.datetime64(\\\"2017-08-31 23:59:59\\\")\\n\\n# Dataset d'origine jusqu'au 31/08/2017 inclus\\nX2 = crea_df(df_all, date_limit_2)\\nX2.shape\";\n",
       "                var nbb_formatted_code = \"# Date limite\\ndate_limit_2 = np.datetime64(\\\"2017-08-31 23:59:59\\\")\\n\\n# Dataset d'origine jusqu'au 31/08/2017 inclus\\nX2 = crea_df(df_all, date_limit_2)\\nX2.shape\";\n",
       "                var nbb_cells = Jupyter.notebook.get_cells();\n",
       "                for (var i = 0; i < nbb_cells.length; ++i) {\n",
       "                    if (nbb_cells[i].input_prompt_number == nbb_cell_id) {\n",
       "                        if (nbb_cells[i].get_text() == nbb_unformatted_code) {\n",
       "                             nbb_cells[i].set_text(nbb_formatted_code);\n",
       "                        }\n",
       "                        break;\n",
       "                    }\n",
       "                }\n",
       "            }, 500);\n",
       "            "
      ],
      "text/plain": [
       "<IPython.core.display.Javascript object>"
      ]
     },
     "metadata": {},
     "output_type": "display_data"
    }
   ],
   "source": [
    "# Date limite\n",
    "date_limit_2 = np.datetime64(\"2017-08-31 23:59:59\")\n",
    "\n",
    "# Dataset d'origine jusqu'au 31/08/2017 inclus\n",
    "X2 = crea_df(df_all, date_limit_2)\n",
    "X2.shape"
   ]
  },
  {
   "cell_type": "markdown",
   "id": "f2177934",
   "metadata": {},
   "source": [
    "#### a. Préparation des données\n",
    "##### Normalisation des données"
   ]
  },
  {
   "cell_type": "code",
   "execution_count": 35,
   "id": "bea7a77a",
   "metadata": {},
   "outputs": [
    {
     "data": {
      "text/plain": [
       "(22182, 3)"
      ]
     },
     "execution_count": 35,
     "metadata": {},
     "output_type": "execute_result"
    },
    {
     "data": {
      "application/javascript": [
       "\n",
       "            setTimeout(function() {\n",
       "                var nbb_cell_id = 35;\n",
       "                var nbb_unformatted_code = \"# Normalisation des donn\\u00e9es avec RobustScaler\\n# Sur les 3 variables montant_dep, note_moy, nb_jours_last_cmd\\nrobust_scal_2 = RobustScaler().fit(X2[[\\\"montant_dep\\\", \\\"note_moy\\\", \\\"nb_jours_last_cmd\\\"]])\\nX2_scaled = robust_scal_2.transform(\\n    X2[[\\\"montant_dep\\\", \\\"note_moy\\\", \\\"nb_jours_last_cmd\\\"]]\\n)\\nX2_scaled.shape\";\n",
       "                var nbb_formatted_code = \"# Normalisation des donn\\u00e9es avec RobustScaler\\n# Sur les 3 variables montant_dep, note_moy, nb_jours_last_cmd\\nrobust_scal_2 = RobustScaler().fit(X2[[\\\"montant_dep\\\", \\\"note_moy\\\", \\\"nb_jours_last_cmd\\\"]])\\nX2_scaled = robust_scal_2.transform(\\n    X2[[\\\"montant_dep\\\", \\\"note_moy\\\", \\\"nb_jours_last_cmd\\\"]]\\n)\\nX2_scaled.shape\";\n",
       "                var nbb_cells = Jupyter.notebook.get_cells();\n",
       "                for (var i = 0; i < nbb_cells.length; ++i) {\n",
       "                    if (nbb_cells[i].input_prompt_number == nbb_cell_id) {\n",
       "                        if (nbb_cells[i].get_text() == nbb_unformatted_code) {\n",
       "                             nbb_cells[i].set_text(nbb_formatted_code);\n",
       "                        }\n",
       "                        break;\n",
       "                    }\n",
       "                }\n",
       "            }, 500);\n",
       "            "
      ],
      "text/plain": [
       "<IPython.core.display.Javascript object>"
      ]
     },
     "metadata": {},
     "output_type": "display_data"
    }
   ],
   "source": [
    "# Normalisation des données avec RobustScaler\n",
    "# Sur les 3 variables montant_dep, note_moy, nb_jours_last_cmd\n",
    "robust_scal_2 = RobustScaler().fit(X2[[\"montant_dep\", \"note_moy\", \"nb_jours_last_cmd\"]])\n",
    "X2_scaled = robust_scal_2.transform(\n",
    "    X2[[\"montant_dep\", \"note_moy\", \"nb_jours_last_cmd\"]]\n",
    ")\n",
    "X2_scaled.shape"
   ]
  },
  {
   "cell_type": "markdown",
   "id": "cc41218e",
   "metadata": {},
   "source": [
    "##### Entrainement du modèle sur période de base"
   ]
  },
  {
   "cell_type": "code",
   "execution_count": 36,
   "id": "c03855da",
   "metadata": {},
   "outputs": [
    {
     "data": {
      "text/plain": [
       "0.5171058297627321"
      ]
     },
     "execution_count": 36,
     "metadata": {},
     "output_type": "execute_result"
    },
    {
     "data": {
      "application/javascript": [
       "\n",
       "            setTimeout(function() {\n",
       "                var nbb_cell_id = 36;\n",
       "                var nbb_unformatted_code = \"# Mod\\u00e8le de base\\nkmeans_2 = KMeans(n_clusters=4, random_state=1).fit(X2_scaled)\\nlabels_2 = kmeans_2.labels_\\n\\n# Calcul du coefficient de silhouette\\nsilhouette_score_2 = silhouette_score(X2_scaled, labels_2)\\nsilhouette_score_2\";\n",
       "                var nbb_formatted_code = \"# Mod\\u00e8le de base\\nkmeans_2 = KMeans(n_clusters=4, random_state=1).fit(X2_scaled)\\nlabels_2 = kmeans_2.labels_\\n\\n# Calcul du coefficient de silhouette\\nsilhouette_score_2 = silhouette_score(X2_scaled, labels_2)\\nsilhouette_score_2\";\n",
       "                var nbb_cells = Jupyter.notebook.get_cells();\n",
       "                for (var i = 0; i < nbb_cells.length; ++i) {\n",
       "                    if (nbb_cells[i].input_prompt_number == nbb_cell_id) {\n",
       "                        if (nbb_cells[i].get_text() == nbb_unformatted_code) {\n",
       "                             nbb_cells[i].set_text(nbb_formatted_code);\n",
       "                        }\n",
       "                        break;\n",
       "                    }\n",
       "                }\n",
       "            }, 500);\n",
       "            "
      ],
      "text/plain": [
       "<IPython.core.display.Javascript object>"
      ]
     },
     "metadata": {},
     "output_type": "display_data"
    }
   ],
   "source": [
    "# Modèle de base\n",
    "kmeans_2 = KMeans(n_clusters=4, random_state=1).fit(X2_scaled)\n",
    "labels_2 = kmeans_2.labels_\n",
    "\n",
    "# Calcul du coefficient de silhouette\n",
    "silhouette_score_2 = silhouette_score(X2_scaled, labels_2)\n",
    "silhouette_score_2"
   ]
  },
  {
   "cell_type": "markdown",
   "id": "2b371f2d",
   "metadata": {},
   "source": [
    "Score de silhouette légèrement inférieur par rapport à la période précédente."
   ]
  },
  {
   "cell_type": "markdown",
   "id": "766c3af3",
   "metadata": {},
   "source": [
    "##### Observation de la répartition des clusters obtenus"
   ]
  },
  {
   "cell_type": "code",
   "execution_count": 37,
   "id": "6ce9d188",
   "metadata": {},
   "outputs": [
    {
     "data": {
      "text/html": [
       "<div>\n",
       "<style scoped>\n",
       "    .dataframe tbody tr th:only-of-type {\n",
       "        vertical-align: middle;\n",
       "    }\n",
       "\n",
       "    .dataframe tbody tr th {\n",
       "        vertical-align: top;\n",
       "    }\n",
       "\n",
       "    .dataframe thead th {\n",
       "        text-align: right;\n",
       "    }\n",
       "</style>\n",
       "<table border=\"1\" class=\"dataframe\">\n",
       "  <thead>\n",
       "    <tr style=\"text-align: right;\">\n",
       "      <th></th>\n",
       "      <th>nb_cmd</th>\n",
       "      <th>montant_dep</th>\n",
       "      <th>nb_prod</th>\n",
       "      <th>note_moy</th>\n",
       "      <th>nb_jours_last_cmd</th>\n",
       "      <th>label</th>\n",
       "    </tr>\n",
       "    <tr>\n",
       "      <th>customer_unique_id</th>\n",
       "      <th></th>\n",
       "      <th></th>\n",
       "      <th></th>\n",
       "      <th></th>\n",
       "      <th></th>\n",
       "      <th></th>\n",
       "    </tr>\n",
       "  </thead>\n",
       "  <tbody>\n",
       "    <tr>\n",
       "      <th>0000f46a3911fa3c0805444483337064</th>\n",
       "      <td>1</td>\n",
       "      <td>86.22</td>\n",
       "      <td>1</td>\n",
       "      <td>3.0</td>\n",
       "      <td>174.121481</td>\n",
       "      <td>2</td>\n",
       "    </tr>\n",
       "    <tr>\n",
       "      <th>0005e1862207bf6ccc02e4228effd9a0</th>\n",
       "      <td>1</td>\n",
       "      <td>150.12</td>\n",
       "      <td>1</td>\n",
       "      <td>4.0</td>\n",
       "      <td>180.019294</td>\n",
       "      <td>3</td>\n",
       "    </tr>\n",
       "    <tr>\n",
       "      <th>0006fdc98a402fceb4eb0ee528f6a8d4</th>\n",
       "      <td>1</td>\n",
       "      <td>29.00</td>\n",
       "      <td>1</td>\n",
       "      <td>3.0</td>\n",
       "      <td>44.608900</td>\n",
       "      <td>2</td>\n",
       "    </tr>\n",
       "    <tr>\n",
       "      <th>000a5ad9c4601d2bbdd9ed765d5213b3</th>\n",
       "      <td>1</td>\n",
       "      <td>91.28</td>\n",
       "      <td>1</td>\n",
       "      <td>4.0</td>\n",
       "      <td>20.426898</td>\n",
       "      <td>3</td>\n",
       "    </tr>\n",
       "    <tr>\n",
       "      <th>000de6019bb59f34c099a907c151d855</th>\n",
       "      <td>1</td>\n",
       "      <td>257.44</td>\n",
       "      <td>2</td>\n",
       "      <td>2.0</td>\n",
       "      <td>14.200995</td>\n",
       "      <td>2</td>\n",
       "    </tr>\n",
       "    <tr>\n",
       "      <th>...</th>\n",
       "      <td>...</td>\n",
       "      <td>...</td>\n",
       "      <td>...</td>\n",
       "      <td>...</td>\n",
       "      <td>...</td>\n",
       "      <td>...</td>\n",
       "    </tr>\n",
       "    <tr>\n",
       "      <th>fff1afc79f6b5db1e235a4a6c30ceda7</th>\n",
       "      <td>1</td>\n",
       "      <td>50.09</td>\n",
       "      <td>1</td>\n",
       "      <td>5.0</td>\n",
       "      <td>1.014769</td>\n",
       "      <td>3</td>\n",
       "    </tr>\n",
       "    <tr>\n",
       "      <th>fff3a9369e4b7102fab406a334a678c3</th>\n",
       "      <td>1</td>\n",
       "      <td>102.74</td>\n",
       "      <td>1</td>\n",
       "      <td>5.0</td>\n",
       "      <td>20.564826</td>\n",
       "      <td>3</td>\n",
       "    </tr>\n",
       "    <tr>\n",
       "      <th>fffcf5a5ff07b0908bd4e2dbc735a684</th>\n",
       "      <td>1</td>\n",
       "      <td>2067.42</td>\n",
       "      <td>2</td>\n",
       "      <td>5.0</td>\n",
       "      <td>84.124572</td>\n",
       "      <td>1</td>\n",
       "    </tr>\n",
       "    <tr>\n",
       "      <th>ffff371b4d645b6ecea244b27531430a</th>\n",
       "      <td>1</td>\n",
       "      <td>112.46</td>\n",
       "      <td>1</td>\n",
       "      <td>5.0</td>\n",
       "      <td>205.340775</td>\n",
       "      <td>3</td>\n",
       "    </tr>\n",
       "    <tr>\n",
       "      <th>ffffd2657e2aad2907e67c3e9daecbeb</th>\n",
       "      <td>1</td>\n",
       "      <td>71.56</td>\n",
       "      <td>1</td>\n",
       "      <td>5.0</td>\n",
       "      <td>121.153634</td>\n",
       "      <td>3</td>\n",
       "    </tr>\n",
       "  </tbody>\n",
       "</table>\n",
       "<p>22182 rows × 6 columns</p>\n",
       "</div>"
      ],
      "text/plain": [
       "                                  nb_cmd  montant_dep  nb_prod  note_moy  \\\n",
       "customer_unique_id                                                         \n",
       "0000f46a3911fa3c0805444483337064       1        86.22        1       3.0   \n",
       "0005e1862207bf6ccc02e4228effd9a0       1       150.12        1       4.0   \n",
       "0006fdc98a402fceb4eb0ee528f6a8d4       1        29.00        1       3.0   \n",
       "000a5ad9c4601d2bbdd9ed765d5213b3       1        91.28        1       4.0   \n",
       "000de6019bb59f34c099a907c151d855       1       257.44        2       2.0   \n",
       "...                                  ...          ...      ...       ...   \n",
       "fff1afc79f6b5db1e235a4a6c30ceda7       1        50.09        1       5.0   \n",
       "fff3a9369e4b7102fab406a334a678c3       1       102.74        1       5.0   \n",
       "fffcf5a5ff07b0908bd4e2dbc735a684       1      2067.42        2       5.0   \n",
       "ffff371b4d645b6ecea244b27531430a       1       112.46        1       5.0   \n",
       "ffffd2657e2aad2907e67c3e9daecbeb       1        71.56        1       5.0   \n",
       "\n",
       "                                  nb_jours_last_cmd  label  \n",
       "customer_unique_id                                          \n",
       "0000f46a3911fa3c0805444483337064         174.121481      2  \n",
       "0005e1862207bf6ccc02e4228effd9a0         180.019294      3  \n",
       "0006fdc98a402fceb4eb0ee528f6a8d4          44.608900      2  \n",
       "000a5ad9c4601d2bbdd9ed765d5213b3          20.426898      3  \n",
       "000de6019bb59f34c099a907c151d855          14.200995      2  \n",
       "...                                             ...    ...  \n",
       "fff1afc79f6b5db1e235a4a6c30ceda7           1.014769      3  \n",
       "fff3a9369e4b7102fab406a334a678c3          20.564826      3  \n",
       "fffcf5a5ff07b0908bd4e2dbc735a684          84.124572      1  \n",
       "ffff371b4d645b6ecea244b27531430a         205.340775      3  \n",
       "ffffd2657e2aad2907e67c3e9daecbeb         121.153634      3  \n",
       "\n",
       "[22182 rows x 6 columns]"
      ]
     },
     "execution_count": 37,
     "metadata": {},
     "output_type": "execute_result"
    },
    {
     "data": {
      "application/javascript": [
       "\n",
       "            setTimeout(function() {\n",
       "                var nbb_cell_id = 37;\n",
       "                var nbb_unformatted_code = \"X2_labeled = df_with_col_label(labels_2, X2)\\nX2_labeled\";\n",
       "                var nbb_formatted_code = \"X2_labeled = df_with_col_label(labels_2, X2)\\nX2_labeled\";\n",
       "                var nbb_cells = Jupyter.notebook.get_cells();\n",
       "                for (var i = 0; i < nbb_cells.length; ++i) {\n",
       "                    if (nbb_cells[i].input_prompt_number == nbb_cell_id) {\n",
       "                        if (nbb_cells[i].get_text() == nbb_unformatted_code) {\n",
       "                             nbb_cells[i].set_text(nbb_formatted_code);\n",
       "                        }\n",
       "                        break;\n",
       "                    }\n",
       "                }\n",
       "            }, 500);\n",
       "            "
      ],
      "text/plain": [
       "<IPython.core.display.Javascript object>"
      ]
     },
     "metadata": {},
     "output_type": "display_data"
    }
   ],
   "source": [
    "X2_labeled = df_with_col_label(labels_2, X2)\n",
    "X2_labeled"
   ]
  },
  {
   "cell_type": "code",
   "execution_count": 38,
   "id": "3c117fc1",
   "metadata": {},
   "outputs": [
    {
     "data": {
      "text/plain": [
       "3    16576\n",
       "2     4441\n",
       "0     1068\n",
       "1       97\n",
       "Name: label, dtype: int64"
      ]
     },
     "execution_count": 38,
     "metadata": {},
     "output_type": "execute_result"
    },
    {
     "data": {
      "application/javascript": [
       "\n",
       "            setTimeout(function() {\n",
       "                var nbb_cell_id = 38;\n",
       "                var nbb_unformatted_code = \"X2_labeled[\\\"label\\\"].value_counts()\";\n",
       "                var nbb_formatted_code = \"X2_labeled[\\\"label\\\"].value_counts()\";\n",
       "                var nbb_cells = Jupyter.notebook.get_cells();\n",
       "                for (var i = 0; i < nbb_cells.length; ++i) {\n",
       "                    if (nbb_cells[i].input_prompt_number == nbb_cell_id) {\n",
       "                        if (nbb_cells[i].get_text() == nbb_unformatted_code) {\n",
       "                             nbb_cells[i].set_text(nbb_formatted_code);\n",
       "                        }\n",
       "                        break;\n",
       "                    }\n",
       "                }\n",
       "            }, 500);\n",
       "            "
      ],
      "text/plain": [
       "<IPython.core.display.Javascript object>"
      ]
     },
     "metadata": {},
     "output_type": "display_data"
    }
   ],
   "source": [
    "X2_labeled[\"label\"].value_counts()"
   ]
  },
  {
   "cell_type": "code",
   "execution_count": 39,
   "id": "c93ac6ae",
   "metadata": {},
   "outputs": [
    {
     "data": {
      "image/png": "[encoded data removed]",
      "text/plain": [
       "<Figure size 576x432 with 1 Axes>"
      ]
     },
     "metadata": {},
     "output_type": "display_data"
    },
    {
     "data": {
      "text/plain": [
       "0    16576\n",
       "1     4441\n",
       "2     1068\n",
       "3       97\n",
       "Name: label, dtype: int64"
      ]
     },
     "execution_count": 39,
     "metadata": {},
     "output_type": "execute_result"
    },
    {
     "data": {
      "application/javascript": [
       "\n",
       "            setTimeout(function() {\n",
       "                var nbb_cell_id = 39;\n",
       "                var nbb_unformatted_code = \"# Changement des num\\u00e9ros de clusters pour avoir dans\\n# l'ordre d\\u00e9croissant en nombre de clients\\nX2_labeled_copy = X2_labeled.copy()\\nX2_labeled_copy[\\\"label\\\"].replace([3, 2, 0, 1], [0, 1, 2, 3], inplace=True)\\n\\n# R\\u00e9partition des clusters\\nperc_cluster_repartition(X2_labeled_copy)\";\n",
       "                var nbb_formatted_code = \"# Changement des num\\u00e9ros de clusters pour avoir dans\\n# l'ordre d\\u00e9croissant en nombre de clients\\nX2_labeled_copy = X2_labeled.copy()\\nX2_labeled_copy[\\\"label\\\"].replace([3, 2, 0, 1], [0, 1, 2, 3], inplace=True)\\n\\n# R\\u00e9partition des clusters\\nperc_cluster_repartition(X2_labeled_copy)\";\n",
       "                var nbb_cells = Jupyter.notebook.get_cells();\n",
       "                for (var i = 0; i < nbb_cells.length; ++i) {\n",
       "                    if (nbb_cells[i].input_prompt_number == nbb_cell_id) {\n",
       "                        if (nbb_cells[i].get_text() == nbb_unformatted_code) {\n",
       "                             nbb_cells[i].set_text(nbb_formatted_code);\n",
       "                        }\n",
       "                        break;\n",
       "                    }\n",
       "                }\n",
       "            }, 500);\n",
       "            "
      ],
      "text/plain": [
       "<IPython.core.display.Javascript object>"
      ]
     },
     "metadata": {},
     "output_type": "display_data"
    }
   ],
   "source": [
    "# Changement des numéros de clusters pour avoir dans\n",
    "# l'ordre décroissant en nombre de clients\n",
    "X2_labeled_copy = X2_labeled.copy()\n",
    "X2_labeled_copy[\"label\"].replace([3, 2, 0, 1], [0, 1, 2, 3], inplace=True)\n",
    "\n",
    "# Répartition des clusters\n",
    "perc_cluster_repartition(X2_labeled_copy)"
   ]
  },
  {
   "cell_type": "markdown",
   "id": "360fbd65",
   "metadata": {},
   "source": [
    "On a des pourcentages plus faibles pour les clusters les moins peuplés et un pourcentage plus élevé pour le cluster le plus peuplé."
   ]
  },
  {
   "cell_type": "code",
   "execution_count": 40,
   "id": "1b6c5e6e",
   "metadata": {},
   "outputs": [
    {
     "data": {
      "image/png": "[encoded data removed]",
      "text/plain": [
       "<Figure size 1080x288 with 2 Axes>"
      ]
     },
     "metadata": {},
     "output_type": "display_data"
    },
    {
     "data": {
      "image/png": "[encoded data removed]",
      "text/plain": [
       "<Figure size 1080x288 with 2 Axes>"
      ]
     },
     "metadata": {},
     "output_type": "display_data"
    },
    {
     "data": {
      "image/png": "[encoded data removed]",
      "text/plain": [
       "<Figure size 1080x288 with 2 Axes>"
      ]
     },
     "metadata": {},
     "output_type": "display_data"
    },
    {
     "data": {
      "image/png": "[encoded data removed]",
      "text/plain": [
       "<Figure size 1080x288 with 2 Axes>"
      ]
     },
     "metadata": {},
     "output_type": "display_data"
    },
    {
     "data": {
      "image/png": "[encoded data removed]",
      "text/plain": [
       "<Figure size 1080x288 with 2 Axes>"
      ]
     },
     "metadata": {},
     "output_type": "display_data"
    },
    {
     "data": {
      "application/javascript": [
       "\n",
       "            setTimeout(function() {\n",
       "                var nbb_cell_id = 40;\n",
       "                var nbb_unformatted_code = \"# Visualisation de la distribution des variables\\nplot_var_cluster(X2_labeled_copy)\";\n",
       "                var nbb_formatted_code = \"# Visualisation de la distribution des variables\\nplot_var_cluster(X2_labeled_copy)\";\n",
       "                var nbb_cells = Jupyter.notebook.get_cells();\n",
       "                for (var i = 0; i < nbb_cells.length; ++i) {\n",
       "                    if (nbb_cells[i].input_prompt_number == nbb_cell_id) {\n",
       "                        if (nbb_cells[i].get_text() == nbb_unformatted_code) {\n",
       "                             nbb_cells[i].set_text(nbb_formatted_code);\n",
       "                        }\n",
       "                        break;\n",
       "                    }\n",
       "                }\n",
       "            }, 500);\n",
       "            "
      ],
      "text/plain": [
       "<IPython.core.display.Javascript object>"
      ]
     },
     "metadata": {},
     "output_type": "display_data"
    }
   ],
   "source": [
    "# Visualisation de la distribution des variables\n",
    "plot_var_cluster(X2_labeled_copy)"
   ]
  },
  {
   "cell_type": "markdown",
   "id": "aa5f360e",
   "metadata": {},
   "source": [
    "On retrouve à peu près les même distributions de variables que sur l'ensemble du dataset.\n",
    "\n",
    "On note que le cluster 3 a une moyenne de nb_jours_last_cmd un peu plus élevée que les autres groupes."
   ]
  },
  {
   "cell_type": "markdown",
   "id": "b735342a",
   "metadata": {},
   "source": [
    "#### b. Ajout de nouveaux clients"
   ]
  },
  {
   "cell_type": "code",
   "execution_count": 41,
   "id": "1343097e",
   "metadata": {},
   "outputs": [
    {
     "data": {
      "application/javascript": [
       "\n",
       "            setTimeout(function() {\n",
       "                var nbb_cell_id = 41;\n",
       "                var nbb_unformatted_code = \"# P\\u00e9riodicit\\u00e9 par mois\\ntime_range2 = np.arange(\\\"2017-09\\\", \\\"2018-11\\\", dtype=\\\"datetime64[M]\\\")\";\n",
       "                var nbb_formatted_code = \"# P\\u00e9riodicit\\u00e9 par mois\\ntime_range2 = np.arange(\\\"2017-09\\\", \\\"2018-11\\\", dtype=\\\"datetime64[M]\\\")\";\n",
       "                var nbb_cells = Jupyter.notebook.get_cells();\n",
       "                for (var i = 0; i < nbb_cells.length; ++i) {\n",
       "                    if (nbb_cells[i].input_prompt_number == nbb_cell_id) {\n",
       "                        if (nbb_cells[i].get_text() == nbb_unformatted_code) {\n",
       "                             nbb_cells[i].set_text(nbb_formatted_code);\n",
       "                        }\n",
       "                        break;\n",
       "                    }\n",
       "                }\n",
       "            }, 500);\n",
       "            "
      ],
      "text/plain": [
       "<IPython.core.display.Javascript object>"
      ]
     },
     "metadata": {},
     "output_type": "display_data"
    }
   ],
   "source": [
    "# Périodicité par mois\n",
    "time_range2 = np.arange(\"2017-09\", \"2018-11\", dtype=\"datetime64[M]\")"
   ]
  },
  {
   "cell_type": "code",
   "execution_count": 42,
   "id": "b94789bc",
   "metadata": {},
   "outputs": [
    {
     "data": {
      "text/html": [
       "<div>\n",
       "<style scoped>\n",
       "    .dataframe tbody tr th:only-of-type {\n",
       "        vertical-align: middle;\n",
       "    }\n",
       "\n",
       "    .dataframe tbody tr th {\n",
       "        vertical-align: top;\n",
       "    }\n",
       "\n",
       "    .dataframe thead th {\n",
       "        text-align: right;\n",
       "    }\n",
       "</style>\n",
       "<table border=\"1\" class=\"dataframe\">\n",
       "  <thead>\n",
       "    <tr style=\"text-align: right;\">\n",
       "      <th></th>\n",
       "      <th>mois_maj</th>\n",
       "      <th>nombre_clients</th>\n",
       "      <th>nombre_total_cmd</th>\n",
       "      <th>nombre_total_prod_cmd</th>\n",
       "      <th>ARI</th>\n",
       "      <th>Silhouette_pred</th>\n",
       "      <th>Silhouette_true</th>\n",
       "    </tr>\n",
       "  </thead>\n",
       "  <tbody>\n",
       "    <tr>\n",
       "      <th>0</th>\n",
       "      <td>2017-09-01</td>\n",
       "      <td>22182</td>\n",
       "      <td>22815</td>\n",
       "      <td>25864</td>\n",
       "      <td>1.000000</td>\n",
       "      <td>0.517106</td>\n",
       "      <td>0.517106</td>\n",
       "    </tr>\n",
       "    <tr>\n",
       "      <th>1</th>\n",
       "      <td>2017-10-01</td>\n",
       "      <td>26242</td>\n",
       "      <td>27024</td>\n",
       "      <td>30658</td>\n",
       "      <td>0.961535</td>\n",
       "      <td>0.505179</td>\n",
       "      <td>0.511260</td>\n",
       "    </tr>\n",
       "    <tr>\n",
       "      <th>2</th>\n",
       "      <td>2017-11-01</td>\n",
       "      <td>30617</td>\n",
       "      <td>31554</td>\n",
       "      <td>35927</td>\n",
       "      <td>0.993573</td>\n",
       "      <td>0.491790</td>\n",
       "      <td>0.516489</td>\n",
       "    </tr>\n",
       "    <tr>\n",
       "      <th>3</th>\n",
       "      <td>2017-12-01</td>\n",
       "      <td>37776</td>\n",
       "      <td>38944</td>\n",
       "      <td>44510</td>\n",
       "      <td>0.993810</td>\n",
       "      <td>0.476371</td>\n",
       "      <td>0.521503</td>\n",
       "    </tr>\n",
       "    <tr>\n",
       "      <th>4</th>\n",
       "      <td>2018-01-01</td>\n",
       "      <td>43167</td>\n",
       "      <td>44511</td>\n",
       "      <td>50747</td>\n",
       "      <td>0.921938</td>\n",
       "      <td>0.468338</td>\n",
       "      <td>0.526441</td>\n",
       "    </tr>\n",
       "    <tr>\n",
       "      <th>5</th>\n",
       "      <td>2018-02-01</td>\n",
       "      <td>50090</td>\n",
       "      <td>51665</td>\n",
       "      <td>58877</td>\n",
       "      <td>0.920568</td>\n",
       "      <td>0.456306</td>\n",
       "      <td>0.519100</td>\n",
       "    </tr>\n",
       "    <tr>\n",
       "      <th>6</th>\n",
       "      <td>2018-03-01</td>\n",
       "      <td>56465</td>\n",
       "      <td>58305</td>\n",
       "      <td>66477</td>\n",
       "      <td>0.921656</td>\n",
       "      <td>0.448469</td>\n",
       "      <td>0.518644</td>\n",
       "    </tr>\n",
       "    <tr>\n",
       "      <th>7</th>\n",
       "      <td>2018-04-01</td>\n",
       "      <td>63352</td>\n",
       "      <td>65429</td>\n",
       "      <td>74621</td>\n",
       "      <td>0.927195</td>\n",
       "      <td>0.440039</td>\n",
       "      <td>0.520042</td>\n",
       "    </tr>\n",
       "    <tr>\n",
       "      <th>8</th>\n",
       "      <td>2018-05-01</td>\n",
       "      <td>70012</td>\n",
       "      <td>72307</td>\n",
       "      <td>82529</td>\n",
       "      <td>0.929423</td>\n",
       "      <td>0.429553</td>\n",
       "      <td>0.519984</td>\n",
       "    </tr>\n",
       "    <tr>\n",
       "      <th>9</th>\n",
       "      <td>2018-06-01</td>\n",
       "      <td>76583</td>\n",
       "      <td>79126</td>\n",
       "      <td>90406</td>\n",
       "      <td>0.940378</td>\n",
       "      <td>0.419709</td>\n",
       "      <td>0.519589</td>\n",
       "    </tr>\n",
       "    <tr>\n",
       "      <th>10</th>\n",
       "      <td>2018-07-01</td>\n",
       "      <td>82492</td>\n",
       "      <td>85260</td>\n",
       "      <td>97446</td>\n",
       "      <td>0.935448</td>\n",
       "      <td>0.410040</td>\n",
       "      <td>0.519148</td>\n",
       "    </tr>\n",
       "    <tr>\n",
       "      <th>11</th>\n",
       "      <td>2018-08-01</td>\n",
       "      <td>88506</td>\n",
       "      <td>91488</td>\n",
       "      <td>104485</td>\n",
       "      <td>0.936544</td>\n",
       "      <td>0.400223</td>\n",
       "      <td>0.519242</td>\n",
       "    </tr>\n",
       "    <tr>\n",
       "      <th>12</th>\n",
       "      <td>2018-09-01</td>\n",
       "      <td>94720</td>\n",
       "      <td>97915</td>\n",
       "      <td>111704</td>\n",
       "      <td>0.935633</td>\n",
       "      <td>0.390844</td>\n",
       "      <td>0.518686</td>\n",
       "    </tr>\n",
       "    <tr>\n",
       "      <th>13</th>\n",
       "      <td>2018-10-01</td>\n",
       "      <td>94720</td>\n",
       "      <td>97916</td>\n",
       "      <td>111705</td>\n",
       "      <td>0.936007</td>\n",
       "      <td>0.390855</td>\n",
       "      <td>0.518691</td>\n",
       "    </tr>\n",
       "  </tbody>\n",
       "</table>\n",
       "</div>"
      ],
      "text/plain": [
       "     mois_maj nombre_clients nombre_total_cmd nombre_total_prod_cmd       ARI  \\\n",
       "0  2017-09-01          22182            22815                 25864  1.000000   \n",
       "1  2017-10-01          26242            27024                 30658  0.961535   \n",
       "2  2017-11-01          30617            31554                 35927  0.993573   \n",
       "3  2017-12-01          37776            38944                 44510  0.993810   \n",
       "4  2018-01-01          43167            44511                 50747  0.921938   \n",
       "5  2018-02-01          50090            51665                 58877  0.920568   \n",
       "6  2018-03-01          56465            58305                 66477  0.921656   \n",
       "7  2018-04-01          63352            65429                 74621  0.927195   \n",
       "8  2018-05-01          70012            72307                 82529  0.929423   \n",
       "9  2018-06-01          76583            79126                 90406  0.940378   \n",
       "10 2018-07-01          82492            85260                 97446  0.935448   \n",
       "11 2018-08-01          88506            91488                104485  0.936544   \n",
       "12 2018-09-01          94720            97915                111704  0.935633   \n",
       "13 2018-10-01          94720            97916                111705  0.936007   \n",
       "\n",
       "    Silhouette_pred  Silhouette_true  \n",
       "0          0.517106         0.517106  \n",
       "1          0.505179         0.511260  \n",
       "2          0.491790         0.516489  \n",
       "3          0.476371         0.521503  \n",
       "4          0.468338         0.526441  \n",
       "5          0.456306         0.519100  \n",
       "6          0.448469         0.518644  \n",
       "7          0.440039         0.520042  \n",
       "8          0.429553         0.519984  \n",
       "9          0.419709         0.519589  \n",
       "10         0.410040         0.519148  \n",
       "11         0.400223         0.519242  \n",
       "12         0.390844         0.518686  \n",
       "13         0.390855         0.518691  "
      ]
     },
     "execution_count": 42,
     "metadata": {},
     "output_type": "execute_result"
    },
    {
     "data": {
      "application/javascript": [
       "\n",
       "            setTimeout(function() {\n",
       "                var nbb_cell_id = 42;\n",
       "                var nbb_unformatted_code = \"results_2_corrected = results_ARI_corrected(time_range2, kmeans_2, robust_scal_2)\\nresults_2_corrected\";\n",
       "                var nbb_formatted_code = \"results_2_corrected = results_ARI_corrected(time_range2, kmeans_2, robust_scal_2)\\nresults_2_corrected\";\n",
       "                var nbb_cells = Jupyter.notebook.get_cells();\n",
       "                for (var i = 0; i < nbb_cells.length; ++i) {\n",
       "                    if (nbb_cells[i].input_prompt_number == nbb_cell_id) {\n",
       "                        if (nbb_cells[i].get_text() == nbb_unformatted_code) {\n",
       "                             nbb_cells[i].set_text(nbb_formatted_code);\n",
       "                        }\n",
       "                        break;\n",
       "                    }\n",
       "                }\n",
       "            }, 500);\n",
       "            "
      ],
      "text/plain": [
       "<IPython.core.display.Javascript object>"
      ]
     },
     "metadata": {},
     "output_type": "display_data"
    }
   ],
   "source": [
    "results_2_corrected = results_ARI_corrected(time_range2, kmeans_2, robust_scal_2)\n",
    "results_2_corrected"
   ]
  },
  {
   "cell_type": "code",
   "execution_count": 43,
   "id": "39a9a2fc",
   "metadata": {},
   "outputs": [
    {
     "data": {
      "image/png": "[encoded data removed]",
      "text/plain": [
       "<Figure size 864x432 with 2 Axes>"
      ]
     },
     "metadata": {},
     "output_type": "display_data"
    },
    {
     "data": {
      "application/javascript": [
       "\n",
       "            setTimeout(function() {\n",
       "                var nbb_cell_id = 43;\n",
       "                var nbb_unformatted_code = \"# Visualisation des r\\u00e9sultats ARI\\nplot_ARI_cust(results_2_corrected)\";\n",
       "                var nbb_formatted_code = \"# Visualisation des r\\u00e9sultats ARI\\nplot_ARI_cust(results_2_corrected)\";\n",
       "                var nbb_cells = Jupyter.notebook.get_cells();\n",
       "                for (var i = 0; i < nbb_cells.length; ++i) {\n",
       "                    if (nbb_cells[i].input_prompt_number == nbb_cell_id) {\n",
       "                        if (nbb_cells[i].get_text() == nbb_unformatted_code) {\n",
       "                             nbb_cells[i].set_text(nbb_formatted_code);\n",
       "                        }\n",
       "                        break;\n",
       "                    }\n",
       "                }\n",
       "            }, 500);\n",
       "            "
      ],
      "text/plain": [
       "<IPython.core.display.Javascript object>"
      ]
     },
     "metadata": {},
     "output_type": "display_data"
    }
   ],
   "source": [
    "# Visualisation des résultats ARI\n",
    "plot_ARI_cust(results_2_corrected)"
   ]
  },
  {
   "cell_type": "markdown",
   "id": "16b9f32e",
   "metadata": {},
   "source": [
    "On remarque une chute importante du score de l'ARI entre décembre 2017 et janvier 2018. On observe une bosse entre novembre de décembre, suite à une augmentation de clients."
   ]
  },
  {
   "cell_type": "code",
   "execution_count": 44,
   "id": "0d774526",
   "metadata": {},
   "outputs": [
    {
     "data": {
      "image/png": "[encoded data removed]",
      "text/plain": [
       "<Figure size 864x576 with 1 Axes>"
      ]
     },
     "metadata": {},
     "output_type": "display_data"
    },
    {
     "data": {
      "application/javascript": [
       "\n",
       "            setTimeout(function() {\n",
       "                var nbb_cell_id = 44;\n",
       "                var nbb_unformatted_code = \"# Visualisation des r\\u00e9sultats pour les scores de silhouette\\nplot_silhouette(results_2_corrected)\";\n",
       "                var nbb_formatted_code = \"# Visualisation des r\\u00e9sultats pour les scores de silhouette\\nplot_silhouette(results_2_corrected)\";\n",
       "                var nbb_cells = Jupyter.notebook.get_cells();\n",
       "                for (var i = 0; i < nbb_cells.length; ++i) {\n",
       "                    if (nbb_cells[i].input_prompt_number == nbb_cell_id) {\n",
       "                        if (nbb_cells[i].get_text() == nbb_unformatted_code) {\n",
       "                             nbb_cells[i].set_text(nbb_formatted_code);\n",
       "                        }\n",
       "                        break;\n",
       "                    }\n",
       "                }\n",
       "            }, 500);\n",
       "            "
      ],
      "text/plain": [
       "<IPython.core.display.Javascript object>"
      ]
     },
     "metadata": {},
     "output_type": "display_data"
    }
   ],
   "source": [
    "# Visualisation des résultats pour les scores de silhouette\n",
    "plot_silhouette(results_2_corrected)"
   ]
  },
  {
   "cell_type": "markdown",
   "id": "4713994f",
   "metadata": {},
   "source": [
    "On a une diminution régulière du score de silhouette pour le modèle de prédiction."
   ]
  },
  {
   "cell_type": "code",
   "execution_count": 45,
   "id": "cdce2b20",
   "metadata": {},
   "outputs": [
    {
     "data": {
      "image/png": "[encoded data removed]",
      "text/plain": [
       "<Figure size 864x432 with 2 Axes>"
      ]
     },
     "metadata": {},
     "output_type": "display_data"
    },
    {
     "data": {
      "application/javascript": [
       "\n",
       "            setTimeout(function() {\n",
       "                var nbb_cell_id = 45;\n",
       "                var nbb_unformatted_code = \"plot_ARI_cmd(results_2_corrected)\";\n",
       "                var nbb_formatted_code = \"plot_ARI_cmd(results_2_corrected)\";\n",
       "                var nbb_cells = Jupyter.notebook.get_cells();\n",
       "                for (var i = 0; i < nbb_cells.length; ++i) {\n",
       "                    if (nbb_cells[i].input_prompt_number == nbb_cell_id) {\n",
       "                        if (nbb_cells[i].get_text() == nbb_unformatted_code) {\n",
       "                             nbb_cells[i].set_text(nbb_formatted_code);\n",
       "                        }\n",
       "                        break;\n",
       "                    }\n",
       "                }\n",
       "            }, 500);\n",
       "            "
      ],
      "text/plain": [
       "<IPython.core.display.Javascript object>"
      ]
     },
     "metadata": {},
     "output_type": "display_data"
    }
   ],
   "source": [
    "plot_ARI_cmd(results_2_corrected)"
   ]
  },
  {
   "cell_type": "markdown",
   "id": "7766b801",
   "metadata": {},
   "source": [
    "On observe une petite bosse pour le nombre total de commandes entre novembre et décembre 2017."
   ]
  },
  {
   "cell_type": "code",
   "execution_count": null,
   "id": "34de9f41",
   "metadata": {},
   "outputs": [],
   "source": []
  }
 ],
 "metadata": {
  "kernelspec": {
   "display_name": "Python 3 (ipykernel)",
   "language": "python",
   "name": "python3"
  },
  "language_info": {
   "codemirror_mode": {
    "name": "ipython",
    "version": 3
   },
   "file_extension": ".py",
   "mimetype": "text/x-python",
   "name": "python",
   "nbconvert_exporter": "python",
   "pygments_lexer": "ipython3",
   "version": "3.8.12"
  }
 },
 "nbformat": 4,
 "nbformat_minor": 5
}
